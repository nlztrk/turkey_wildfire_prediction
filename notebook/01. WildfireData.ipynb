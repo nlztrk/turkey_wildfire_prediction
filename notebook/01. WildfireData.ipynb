{
 "cells": [
  {
   "cell_type": "code",
   "execution_count": 1,
   "metadata": {},
   "outputs": [],
   "source": [
    "import pandas as pd\n",
    "import numpy as np\n",
    "from IPython.core.interactiveshell import InteractiveShell\n",
    "InteractiveShell.ast_node_interactivity = \"all\"\n",
    "import glob\n",
    "from tqdm import tqdm"
   ]
  },
  {
   "cell_type": "markdown",
   "metadata": {},
   "source": [
    "## NASA FIRMS - Fire Information for Resource Management System\n",
    "\n",
    "FIRMS distributes Near Real-Time (NRT) active fire data within 3 hours of satellite observation from the Moderate Resolution Imaging Spectroradiometer ([MODIS](https://modis.gsfc.nasa.gov/)) aboard the Aqua and Terra satellites, and the Visible Infrared Imaging Radiometer Suite ([VIIRS](https://www.jpss.noaa.gov/viirs.html)) aboard S-NPP and NOAA 20.\n"
   ]
  },
  {
   "cell_type": "markdown",
   "metadata": {},
   "source": [
    "### Acknowledgement & Disclaimer\n",
    "\n",
    "We acknowledge the use of data and/or imagery from NASA's FIRMS (https://earthdata.nasa.gov/firms), part of NASA's Earth Observing System Data and Information System (EOSDIS).\n",
    "\n",
    "* Do not use for the preservation of life or property. Satellite-derived active fire / thermal anomalies have limited accuracy.\n",
    "* Active fire/thermal anomalies may be from fire, hot smoke, agriculture or other sources.\n",
    "* Cloud cover may obscure active fire detections.\n",
    "\n",
    "Please see the [official page](https://earthdata.nasa.gov/earth-observation-data/near-real-time/citation#ed-lance-disclaimer) for further details."
   ]
  },
  {
   "cell_type": "markdown",
   "metadata": {},
   "source": [
    "## Defining the Target Zone\n",
    "Define the latitude & longitude ranges of your target country, zone, etc. The example is for Turkey."
   ]
  },
  {
   "cell_type": "code",
   "execution_count": 2,
   "metadata": {},
   "outputs": [],
   "source": [
    "LAT_RANGE = (36, 42)\n",
    "LON_RANGE = (26, 45)"
   ]
  },
  {
   "cell_type": "markdown",
   "metadata": {},
   "source": [
    "### Read and check the chunks\n",
    "\n",
    "The archive fire/hotspot datasets could be requested at \n",
    "https://firms.modaps.eosdis.nasa.gov/download/ in yearly chunks for each instrument.\n",
    "\n",
    "* MODIS Collection 6.1: Temporal Coverage: 11 November 2000 - present\n",
    "* VIIRS S-NPP 375m: Temporal Coverage: 20 January 2012 - present\n",
    "* VIIRS NOAA-20 375m: Temporal Coverage: 1 January 2020 - present\n",
    "\n",
    "Since NOAA-20 has less than 2 years data let's focus ont the other instruments."
   ]
  },
  {
   "cell_type": "code",
   "execution_count": 3,
   "metadata": {},
   "outputs": [
    {
     "data": {
      "text/plain": [
       "['../data/raw_data/DL_FIRE_M-C61_216014/fire_archive_M-C61_216014.csv',\n",
       " '../data/raw_data/DL_FIRE_M-C61_216003/fire_archive_M-C61_216003.csv',\n",
       " '../data/raw_data/DL_FIRE_SV-C2_216019/fire_archive_SV-C2_216019.csv',\n",
       " '../data/raw_data/DL_FIRE_M-C61_216012/fire_archive_M-C61_216012.csv',\n",
       " '../data/raw_data/DL_FIRE_SV-C2_216899/fire_archive_SV-C2_216899.csv',\n",
       " '../data/raw_data/DL_FIRE_M-C61_216898/fire_archive_M-C61_216898.csv',\n",
       " '../data/raw_data/DL_FIRE_M-C61_216006/fire_archive_M-C61_216006.csv',\n",
       " '../data/raw_data/DL_FIRE_SV-C2_216007/fire_archive_SV-C2_216007.csv',\n",
       " '../data/raw_data/DL_FIRE_M-C61_216010/fire_archive_M-C61_216010.csv',\n",
       " '../data/raw_data/DL_FIRE_SV-C2_216015/fire_archive_SV-C2_216015.csv',\n",
       " '../data/raw_data/DL_FIRE_SV-C2_216011/fire_archive_SV-C2_216011.csv',\n",
       " '../data/raw_data/DL_FIRE_SV-C2_230336/fire_archive_SV-C2_230336.csv',\n",
       " '../data/raw_data/DL_FIRE_SV-C2_230336/fire_nrt_SV-C2_230336.csv',\n",
       " '../data/raw_data/DL_FIRE_M-C61_216016/fire_archive_M-C61_216016.csv',\n",
       " '../data/raw_data/DL_FIRE_J1V-C2_216004/fire_nrt_J1V-C2_216004.csv',\n",
       " '../data/raw_data/DL_FIRE_SV-C2_216013/fire_archive_SV-C2_216013.csv',\n",
       " '../data/raw_data/DL_FIRE_M-C61_216018/fire_archive_M-C61_216018.csv',\n",
       " '../data/raw_data/DL_FIRE_SV-C2_216005/fire_archive_SV-C2_216005.csv',\n",
       " '../data/raw_data/DL_FIRE_M-C61_230335/fire_nrt_M-C61_230335.csv',\n",
       " '../data/raw_data/DL_FIRE_M-C61_230335/fire_archive_M-C61_230335.csv',\n",
       " '../data/raw_data/DL_FIRE_SV-C2_216017/fire_archive_SV-C2_216017.csv']"
      ]
     },
     "execution_count": 3,
     "metadata": {},
     "output_type": "execute_result"
    }
   ],
   "source": [
    "filenames = glob.glob('../data/raw_data/*/*.csv')\n",
    "filenames"
   ]
  },
  {
   "cell_type": "markdown",
   "metadata": {},
   "source": [
    "# Process each chunk\n",
    "\n",
    "We removed fire readings with low or less than 50 confidence. We also took only the zones that falls within our target latitude & longitude ranges. For simplicity the coordinates are rounded to two decimal degrees. That is roughly 1.1 km at the Equator. For better spatial resolution the original VIIRS records could be used.\n"
   ]
  },
  {
   "cell_type": "code",
   "execution_count": 4,
   "metadata": {
    "scrolled": false
   },
   "outputs": [
    {
     "name": "stderr",
     "output_type": "stream",
     "text": [
      "100%|███████████████████████████████████████████| 21/21 [02:55<00:00,  8.34s/it]\n"
     ]
    }
   ],
   "source": [
    "chunks = []\n",
    "cols_to_read = ['latitude', 'longitude', 'acq_date', 'satellite', 'instrument', 'confidence']\n",
    "for f in tqdm(filenames):\n",
    "    fire = pd.read_csv(f, usecols=cols_to_read, parse_dates=['acq_date'], low_memory=False)\n",
    "    if fire.satellite.loc[0] in ['Terra', 'Aqua', 'N']:\n",
    "        try:\n",
    "            fire = fire[(fire.latitude >= LAT_RANGE[0]) &\\\n",
    "                              (fire.latitude <= LAT_RANGE[1]) &\\\n",
    "                              (fire.longitude >= LON_RANGE[0]) &\\\n",
    "                              (fire.longitude <= LON_RANGE[1])]\n",
    "            fire.latitude = fire.latitude.round(2)\n",
    "            fire.longitude = fire.longitude.round(2)\n",
    "            fire.confidence = fire.confidence.replace({'l': 0, 'n': 50, 'h': 100})\n",
    "            daily_fires = fire.groupby(\n",
    "                ['latitude', 'longitude', 'acq_date', 'satellite', 'instrument']).confidence.max().reset_index()\n",
    "            daily_fires = daily_fires[daily_fires.confidence >= 50]  # Remove low confidence records\n",
    "            chunks.append(daily_fires)\n",
    "        except:\n",
    "            pass\n",
    "    else:\n",
    "        pass"
   ]
  },
  {
   "cell_type": "code",
   "execution_count": 5,
   "metadata": {
    "scrolled": false
   },
   "outputs": [
    {
     "data": {
      "text/html": [
       "<div>\n",
       "<style scoped>\n",
       "    .dataframe tbody tr th:only-of-type {\n",
       "        vertical-align: middle;\n",
       "    }\n",
       "\n",
       "    .dataframe tbody tr th {\n",
       "        vertical-align: top;\n",
       "    }\n",
       "\n",
       "    .dataframe thead th {\n",
       "        text-align: right;\n",
       "    }\n",
       "</style>\n",
       "<table border=\"1\" class=\"dataframe\">\n",
       "  <thead>\n",
       "    <tr style=\"text-align: right;\">\n",
       "      <th></th>\n",
       "      <th>latitude</th>\n",
       "      <th>longitude</th>\n",
       "      <th>acq_date</th>\n",
       "      <th>satellite</th>\n",
       "      <th>instrument</th>\n",
       "      <th>confidence</th>\n",
       "    </tr>\n",
       "  </thead>\n",
       "  <tbody>\n",
       "    <tr>\n",
       "      <th>0</th>\n",
       "      <td>36.0</td>\n",
       "      <td>36.68</td>\n",
       "      <td>2015-05-28</td>\n",
       "      <td>N</td>\n",
       "      <td>VIIRS</td>\n",
       "      <td>50</td>\n",
       "    </tr>\n",
       "    <tr>\n",
       "      <th>1</th>\n",
       "      <td>36.0</td>\n",
       "      <td>36.69</td>\n",
       "      <td>2015-05-28</td>\n",
       "      <td>N</td>\n",
       "      <td>VIIRS</td>\n",
       "      <td>50</td>\n",
       "    </tr>\n",
       "    <tr>\n",
       "      <th>2</th>\n",
       "      <td>36.0</td>\n",
       "      <td>36.74</td>\n",
       "      <td>2015-08-10</td>\n",
       "      <td>N</td>\n",
       "      <td>VIIRS</td>\n",
       "      <td>50</td>\n",
       "    </tr>\n",
       "    <tr>\n",
       "      <th>3</th>\n",
       "      <td>36.0</td>\n",
       "      <td>36.75</td>\n",
       "      <td>2015-07-23</td>\n",
       "      <td>N</td>\n",
       "      <td>VIIRS</td>\n",
       "      <td>50</td>\n",
       "    </tr>\n",
       "    <tr>\n",
       "      <th>4</th>\n",
       "      <td>36.0</td>\n",
       "      <td>36.80</td>\n",
       "      <td>2015-08-07</td>\n",
       "      <td>N</td>\n",
       "      <td>VIIRS</td>\n",
       "      <td>50</td>\n",
       "    </tr>\n",
       "  </tbody>\n",
       "</table>\n",
       "</div>"
      ],
      "text/plain": [
       "   latitude  longitude   acq_date satellite instrument  confidence\n",
       "0      36.0      36.68 2015-05-28         N      VIIRS          50\n",
       "1      36.0      36.69 2015-05-28         N      VIIRS          50\n",
       "2      36.0      36.74 2015-08-10         N      VIIRS          50\n",
       "3      36.0      36.75 2015-07-23         N      VIIRS          50\n",
       "4      36.0      36.80 2015-08-07         N      VIIRS          50"
      ]
     },
     "execution_count": 5,
     "metadata": {},
     "output_type": "execute_result"
    }
   ],
   "source": [
    "daily_fires.head()"
   ]
  },
  {
   "cell_type": "markdown",
   "metadata": {},
   "source": [
    "We are merging the chunks we created into one full dataframe."
   ]
  },
  {
   "cell_type": "code",
   "execution_count": 6,
   "metadata": {},
   "outputs": [
    {
     "data": {
      "text/html": [
       "<div>\n",
       "<style scoped>\n",
       "    .dataframe tbody tr th:only-of-type {\n",
       "        vertical-align: middle;\n",
       "    }\n",
       "\n",
       "    .dataframe tbody tr th {\n",
       "        vertical-align: top;\n",
       "    }\n",
       "\n",
       "    .dataframe thead th {\n",
       "        text-align: right;\n",
       "    }\n",
       "</style>\n",
       "<table border=\"1\" class=\"dataframe\">\n",
       "  <thead>\n",
       "    <tr style=\"text-align: right;\">\n",
       "      <th></th>\n",
       "      <th>latitude</th>\n",
       "      <th>longitude</th>\n",
       "      <th>acq_date</th>\n",
       "      <th>satellite</th>\n",
       "      <th>instrument</th>\n",
       "      <th>confidence</th>\n",
       "    </tr>\n",
       "  </thead>\n",
       "  <tbody>\n",
       "    <tr>\n",
       "      <th>0</th>\n",
       "      <td>36.00</td>\n",
       "      <td>43.38</td>\n",
       "      <td>2016-11-25</td>\n",
       "      <td>Aqua</td>\n",
       "      <td>MODIS</td>\n",
       "      <td>62</td>\n",
       "    </tr>\n",
       "    <tr>\n",
       "      <th>1</th>\n",
       "      <td>36.00</td>\n",
       "      <td>43.42</td>\n",
       "      <td>2016-11-13</td>\n",
       "      <td>Terra</td>\n",
       "      <td>MODIS</td>\n",
       "      <td>71</td>\n",
       "    </tr>\n",
       "    <tr>\n",
       "      <th>2</th>\n",
       "      <td>36.00</td>\n",
       "      <td>43.89</td>\n",
       "      <td>2016-06-10</td>\n",
       "      <td>Terra</td>\n",
       "      <td>MODIS</td>\n",
       "      <td>100</td>\n",
       "    </tr>\n",
       "    <tr>\n",
       "      <th>3</th>\n",
       "      <td>36.01</td>\n",
       "      <td>36.34</td>\n",
       "      <td>2016-09-20</td>\n",
       "      <td>Terra</td>\n",
       "      <td>MODIS</td>\n",
       "      <td>65</td>\n",
       "    </tr>\n",
       "    <tr>\n",
       "      <th>4</th>\n",
       "      <td>36.01</td>\n",
       "      <td>37.20</td>\n",
       "      <td>2016-04-23</td>\n",
       "      <td>Aqua</td>\n",
       "      <td>MODIS</td>\n",
       "      <td>95</td>\n",
       "    </tr>\n",
       "    <tr>\n",
       "      <th>...</th>\n",
       "      <td>...</td>\n",
       "      <td>...</td>\n",
       "      <td>...</td>\n",
       "      <td>...</td>\n",
       "      <td>...</td>\n",
       "      <td>...</td>\n",
       "    </tr>\n",
       "    <tr>\n",
       "      <th>57295</th>\n",
       "      <td>42.00</td>\n",
       "      <td>26.71</td>\n",
       "      <td>2015-08-05</td>\n",
       "      <td>N</td>\n",
       "      <td>VIIRS</td>\n",
       "      <td>100</td>\n",
       "    </tr>\n",
       "    <tr>\n",
       "      <th>57296</th>\n",
       "      <td>42.00</td>\n",
       "      <td>26.72</td>\n",
       "      <td>2015-08-05</td>\n",
       "      <td>N</td>\n",
       "      <td>VIIRS</td>\n",
       "      <td>50</td>\n",
       "    </tr>\n",
       "    <tr>\n",
       "      <th>57297</th>\n",
       "      <td>42.00</td>\n",
       "      <td>41.80</td>\n",
       "      <td>2015-02-02</td>\n",
       "      <td>N</td>\n",
       "      <td>VIIRS</td>\n",
       "      <td>50</td>\n",
       "    </tr>\n",
       "    <tr>\n",
       "      <th>57298</th>\n",
       "      <td>42.00</td>\n",
       "      <td>42.24</td>\n",
       "      <td>2015-02-24</td>\n",
       "      <td>N</td>\n",
       "      <td>VIIRS</td>\n",
       "      <td>50</td>\n",
       "    </tr>\n",
       "    <tr>\n",
       "      <th>57299</th>\n",
       "      <td>42.00</td>\n",
       "      <td>43.74</td>\n",
       "      <td>2015-08-15</td>\n",
       "      <td>N</td>\n",
       "      <td>VIIRS</td>\n",
       "      <td>50</td>\n",
       "    </tr>\n",
       "  </tbody>\n",
       "</table>\n",
       "<p>463430 rows × 6 columns</p>\n",
       "</div>"
      ],
      "text/plain": [
       "       latitude  longitude   acq_date satellite instrument  confidence\n",
       "0         36.00      43.38 2016-11-25      Aqua      MODIS          62\n",
       "1         36.00      43.42 2016-11-13     Terra      MODIS          71\n",
       "2         36.00      43.89 2016-06-10     Terra      MODIS         100\n",
       "3         36.01      36.34 2016-09-20     Terra      MODIS          65\n",
       "4         36.01      37.20 2016-04-23      Aqua      MODIS          95\n",
       "...         ...        ...        ...       ...        ...         ...\n",
       "57295     42.00      26.71 2015-08-05         N      VIIRS         100\n",
       "57296     42.00      26.72 2015-08-05         N      VIIRS          50\n",
       "57297     42.00      41.80 2015-02-02         N      VIIRS          50\n",
       "57298     42.00      42.24 2015-02-24         N      VIIRS          50\n",
       "57299     42.00      43.74 2015-08-15         N      VIIRS          50\n",
       "\n",
       "[463430 rows x 6 columns]"
      ]
     },
     "execution_count": 6,
     "metadata": {},
     "output_type": "execute_result"
    }
   ],
   "source": [
    "full_dataset = pd.concat(chunks)\n",
    "full_dataset"
   ]
  },
  {
   "cell_type": "markdown",
   "metadata": {},
   "source": [
    "## Export\n",
    "We are exporting the wildfire data with .gzip compression."
   ]
  },
  {
   "cell_type": "code",
   "execution_count": 7,
   "metadata": {},
   "outputs": [],
   "source": [
    "full_dataset.to_csv('../data/processed_data/fire_daily.csv.gz', index=False, compression='gzip')"
   ]
  }
 ],
 "metadata": {
  "kernelspec": {
   "display_name": "Python 3 (ipykernel)",
   "language": "python",
   "name": "python3"
  },
  "language_info": {
   "codemirror_mode": {
    "name": "ipython",
    "version": 3
   },
   "file_extension": ".py",
   "mimetype": "text/x-python",
   "name": "python",
   "nbconvert_exporter": "python",
   "pygments_lexer": "ipython3",
   "version": "3.8.12"
  }
 },
 "nbformat": 4,
 "nbformat_minor": 4
}
