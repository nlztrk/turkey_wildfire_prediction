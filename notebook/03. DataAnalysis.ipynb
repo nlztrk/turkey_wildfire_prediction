{
 "cells": [
  {
   "cell_type": "code",
   "execution_count": 2,
   "id": "891610b6",
   "metadata": {},
   "outputs": [],
   "source": [
    "import pandas as pd\n",
    "import numpy as np\n",
    "import itertools\n",
    "import seaborn as sns\n",
    "import matplotlib.pyplot as plt\n",
    "\n",
    "from IPython.core.interactiveshell import InteractiveShell\n",
    "\n",
    "import plotly.figure_factory as ff\n",
    "import plotly.express as px\n",
    "\n",
    "InteractiveShell.ast_node_interactivity = \"all\"\n",
    "\n",
    "sns.set(style=\"darkgrid\")"
   ]
  },
  {
   "cell_type": "markdown",
   "id": "9b63b9dd",
   "metadata": {},
   "source": [
    "# 1. Analysis on Wildfire Data"
   ]
  },
  {
   "cell_type": "markdown",
   "id": "485add67",
   "metadata": {},
   "source": [
    "## Reading the Data"
   ]
  },
  {
   "cell_type": "code",
   "execution_count": 2,
   "id": "cbcf3095",
   "metadata": {},
   "outputs": [
    {
     "data": {
      "text/html": [
       "<div>\n",
       "<style scoped>\n",
       "    .dataframe tbody tr th:only-of-type {\n",
       "        vertical-align: middle;\n",
       "    }\n",
       "\n",
       "    .dataframe tbody tr th {\n",
       "        vertical-align: top;\n",
       "    }\n",
       "\n",
       "    .dataframe thead th {\n",
       "        text-align: right;\n",
       "    }\n",
       "</style>\n",
       "<table border=\"1\" class=\"dataframe\">\n",
       "  <thead>\n",
       "    <tr style=\"text-align: right;\">\n",
       "      <th></th>\n",
       "      <th>latitude</th>\n",
       "      <th>longitude</th>\n",
       "      <th>acq_date</th>\n",
       "      <th>satellite</th>\n",
       "      <th>instrument</th>\n",
       "      <th>confidence</th>\n",
       "    </tr>\n",
       "  </thead>\n",
       "  <tbody>\n",
       "    <tr>\n",
       "      <th>0</th>\n",
       "      <td>36.00</td>\n",
       "      <td>43.38</td>\n",
       "      <td>2016-11-25</td>\n",
       "      <td>Aqua</td>\n",
       "      <td>MODIS</td>\n",
       "      <td>62</td>\n",
       "    </tr>\n",
       "    <tr>\n",
       "      <th>1</th>\n",
       "      <td>36.00</td>\n",
       "      <td>43.42</td>\n",
       "      <td>2016-11-13</td>\n",
       "      <td>Terra</td>\n",
       "      <td>MODIS</td>\n",
       "      <td>71</td>\n",
       "    </tr>\n",
       "    <tr>\n",
       "      <th>2</th>\n",
       "      <td>36.00</td>\n",
       "      <td>43.89</td>\n",
       "      <td>2016-06-10</td>\n",
       "      <td>Terra</td>\n",
       "      <td>MODIS</td>\n",
       "      <td>100</td>\n",
       "    </tr>\n",
       "    <tr>\n",
       "      <th>3</th>\n",
       "      <td>36.01</td>\n",
       "      <td>36.34</td>\n",
       "      <td>2016-09-20</td>\n",
       "      <td>Terra</td>\n",
       "      <td>MODIS</td>\n",
       "      <td>65</td>\n",
       "    </tr>\n",
       "    <tr>\n",
       "      <th>4</th>\n",
       "      <td>36.01</td>\n",
       "      <td>37.20</td>\n",
       "      <td>2016-04-23</td>\n",
       "      <td>Aqua</td>\n",
       "      <td>MODIS</td>\n",
       "      <td>95</td>\n",
       "    </tr>\n",
       "  </tbody>\n",
       "</table>\n",
       "</div>"
      ],
      "text/plain": [
       "   latitude  longitude   acq_date satellite instrument  confidence\n",
       "0     36.00      43.38 2016-11-25      Aqua      MODIS          62\n",
       "1     36.00      43.42 2016-11-13     Terra      MODIS          71\n",
       "2     36.00      43.89 2016-06-10     Terra      MODIS         100\n",
       "3     36.01      36.34 2016-09-20     Terra      MODIS          65\n",
       "4     36.01      37.20 2016-04-23      Aqua      MODIS          95"
      ]
     },
     "execution_count": 2,
     "metadata": {},
     "output_type": "execute_result"
    }
   ],
   "source": [
    "fires = pd.read_csv('../data/processed_data/fire_daily.csv.gz', parse_dates=['acq_date'])\n",
    "fires.head()"
   ]
  },
  {
   "cell_type": "markdown",
   "id": "ca1b81ab",
   "metadata": {},
   "source": [
    "## Defining helper functions\n",
    "Here we are defining functions for floor-rounding lat-lon values (casting them as integers), to analyse wildfire occurrences in bins."
   ]
  },
  {
   "cell_type": "code",
   "execution_count": 3,
   "id": "b1d5b0c3",
   "metadata": {},
   "outputs": [],
   "source": [
    "def latitude_wfire_counter(df):\n",
    "    fires[\"lat_int\"] = fires[\"latitude\"].astype(int)\n",
    "    lat_fire_df = df[[\"lat_int\", \"confidence\"]].groupby([\"lat_int\"]).count().\\\n",
    "                reset_index().rename(columns={\"lat_int\": \"Latitude\", \"confidence\": \"Wildfire Count\"})\n",
    "    lat_fire_df[\"Latitude\"] = lat_fire_df[\"Latitude\"].astype(str) + \" - \" + (lat_fire_df[\"Latitude\"]+0.99).astype(str)\n",
    "    return lat_fire_df\n",
    "\n",
    "def longitude_wfire_counter(df):\n",
    "    df[\"long_int\"] = df[\"longitude\"].astype(int)\n",
    "    lon_fire_df = df[[\"long_int\", \"confidence\"]].groupby([\"long_int\"]).count().\\\n",
    "                reset_index().rename(columns={\"long_int\": \"Longitude\", \"confidence\": \"Wildfire Count\"})\n",
    "    lon_fire_df[\"Longitude\"] = lon_fire_df[\"Longitude\"].astype(str) + \" - \" + (lon_fire_df[\"Longitude\"]+0.99).astype(str)\n",
    "    return lon_fire_df"
   ]
  },
  {
   "cell_type": "markdown",
   "id": "3008fa07",
   "metadata": {},
   "source": [
    "## Total wildfire count for latitude intervals"
   ]
  },
  {
   "cell_type": "code",
   "execution_count": 4,
   "id": "487345aa",
   "metadata": {},
   "outputs": [
    {
     "data": {
      "image/png": "[encoded data removed]",
      "text/plain": [
       "<Figure size 432x288 with 1 Axes>"
      ]
     },
     "metadata": {},
     "output_type": "display_data"
    },
    {
     "data": {
      "text/html": [
       "<div>\n",
       "<style scoped>\n",
       "    .dataframe tbody tr th:only-of-type {\n",
       "        vertical-align: middle;\n",
       "    }\n",
       "\n",
       "    .dataframe tbody tr th {\n",
       "        vertical-align: top;\n",
       "    }\n",
       "\n",
       "    .dataframe thead th {\n",
       "        text-align: right;\n",
       "    }\n",
       "</style>\n",
       "<table border=\"1\" class=\"dataframe\">\n",
       "  <thead>\n",
       "    <tr style=\"text-align: right;\">\n",
       "      <th></th>\n",
       "      <th>Latitude</th>\n",
       "      <th>Wildfire Count</th>\n",
       "    </tr>\n",
       "  </thead>\n",
       "  <tbody>\n",
       "    <tr>\n",
       "      <th>0</th>\n",
       "      <td>36 - 36.99</td>\n",
       "      <td>144164</td>\n",
       "    </tr>\n",
       "    <tr>\n",
       "      <th>1</th>\n",
       "      <td>37 - 37.99</td>\n",
       "      <td>153443</td>\n",
       "    </tr>\n",
       "    <tr>\n",
       "      <th>2</th>\n",
       "      <td>38 - 38.99</td>\n",
       "      <td>57700</td>\n",
       "    </tr>\n",
       "    <tr>\n",
       "      <th>3</th>\n",
       "      <td>39 - 39.99</td>\n",
       "      <td>38992</td>\n",
       "    </tr>\n",
       "    <tr>\n",
       "      <th>4</th>\n",
       "      <td>40 - 40.99</td>\n",
       "      <td>35032</td>\n",
       "    </tr>\n",
       "    <tr>\n",
       "      <th>5</th>\n",
       "      <td>41 - 41.99</td>\n",
       "      <td>34049</td>\n",
       "    </tr>\n",
       "    <tr>\n",
       "      <th>6</th>\n",
       "      <td>42 - 42.99</td>\n",
       "      <td>50</td>\n",
       "    </tr>\n",
       "  </tbody>\n",
       "</table>\n",
       "</div>"
      ],
      "text/plain": [
       "     Latitude  Wildfire Count\n",
       "0  36 - 36.99          144164\n",
       "1  37 - 37.99          153443\n",
       "2  38 - 38.99           57700\n",
       "3  39 - 39.99           38992\n",
       "4  40 - 40.99           35032\n",
       "5  41 - 41.99           34049\n",
       "6  42 - 42.99              50"
      ]
     },
     "execution_count": 4,
     "metadata": {},
     "output_type": "execute_result"
    }
   ],
   "source": [
    "lat_fire_df = latitude_wfire_counter(fires)\n",
    "ax = sns.barplot(x=lat_fire_df[\"Latitude\"], y=lat_fire_df[\"Wildfire Count\"])\n",
    "for item in ax.get_xticklabels():\n",
    "    item.set_rotation(45)\n",
    "plt.show()\n",
    "\n",
    "lat_fire_df"
   ]
  },
  {
   "cell_type": "markdown",
   "id": "ac40e762",
   "metadata": {},
   "source": [
    "## Total wildfire count for longitude intervals"
   ]
  },
  {
   "cell_type": "code",
   "execution_count": 5,
   "id": "5b880cae",
   "metadata": {},
   "outputs": [
    {
     "data": {
      "image/png": "[encoded data removed]",
      "text/plain": [
       "<Figure size 432x288 with 1 Axes>"
      ]
     },
     "metadata": {},
     "output_type": "display_data"
    },
    {
     "data": {
      "text/html": [
       "<div>\n",
       "<style scoped>\n",
       "    .dataframe tbody tr th:only-of-type {\n",
       "        vertical-align: middle;\n",
       "    }\n",
       "\n",
       "    .dataframe tbody tr th {\n",
       "        vertical-align: top;\n",
       "    }\n",
       "\n",
       "    .dataframe thead th {\n",
       "        text-align: right;\n",
       "    }\n",
       "</style>\n",
       "<table border=\"1\" class=\"dataframe\">\n",
       "  <thead>\n",
       "    <tr style=\"text-align: right;\">\n",
       "      <th></th>\n",
       "      <th>Longitude</th>\n",
       "      <th>Wildfire Count</th>\n",
       "    </tr>\n",
       "  </thead>\n",
       "  <tbody>\n",
       "    <tr>\n",
       "      <th>0</th>\n",
       "      <td>26 - 26.99</td>\n",
       "      <td>18783</td>\n",
       "    </tr>\n",
       "    <tr>\n",
       "      <th>1</th>\n",
       "      <td>27 - 27.99</td>\n",
       "      <td>19245</td>\n",
       "    </tr>\n",
       "    <tr>\n",
       "      <th>2</th>\n",
       "      <td>28 - 28.99</td>\n",
       "      <td>9553</td>\n",
       "    </tr>\n",
       "    <tr>\n",
       "      <th>3</th>\n",
       "      <td>29 - 29.99</td>\n",
       "      <td>11235</td>\n",
       "    </tr>\n",
       "    <tr>\n",
       "      <th>4</th>\n",
       "      <td>30 - 30.99</td>\n",
       "      <td>11845</td>\n",
       "    </tr>\n",
       "    <tr>\n",
       "      <th>5</th>\n",
       "      <td>31 - 31.99</td>\n",
       "      <td>17054</td>\n",
       "    </tr>\n",
       "    <tr>\n",
       "      <th>6</th>\n",
       "      <td>32 - 32.99</td>\n",
       "      <td>17655</td>\n",
       "    </tr>\n",
       "    <tr>\n",
       "      <th>7</th>\n",
       "      <td>33 - 33.99</td>\n",
       "      <td>18831</td>\n",
       "    </tr>\n",
       "    <tr>\n",
       "      <th>8</th>\n",
       "      <td>34 - 34.99</td>\n",
       "      <td>16058</td>\n",
       "    </tr>\n",
       "    <tr>\n",
       "      <th>9</th>\n",
       "      <td>35 - 35.99</td>\n",
       "      <td>33136</td>\n",
       "    </tr>\n",
       "    <tr>\n",
       "      <th>10</th>\n",
       "      <td>36 - 36.99</td>\n",
       "      <td>31470</td>\n",
       "    </tr>\n",
       "    <tr>\n",
       "      <th>11</th>\n",
       "      <td>37 - 37.99</td>\n",
       "      <td>21295</td>\n",
       "    </tr>\n",
       "    <tr>\n",
       "      <th>12</th>\n",
       "      <td>38 - 38.99</td>\n",
       "      <td>20665</td>\n",
       "    </tr>\n",
       "    <tr>\n",
       "      <th>13</th>\n",
       "      <td>39 - 39.99</td>\n",
       "      <td>33664</td>\n",
       "    </tr>\n",
       "    <tr>\n",
       "      <th>14</th>\n",
       "      <td>40 - 40.99</td>\n",
       "      <td>58424</td>\n",
       "    </tr>\n",
       "    <tr>\n",
       "      <th>15</th>\n",
       "      <td>41 - 41.99</td>\n",
       "      <td>28695</td>\n",
       "    </tr>\n",
       "    <tr>\n",
       "      <th>16</th>\n",
       "      <td>42 - 42.99</td>\n",
       "      <td>31893</td>\n",
       "    </tr>\n",
       "    <tr>\n",
       "      <th>17</th>\n",
       "      <td>43 - 43.99</td>\n",
       "      <td>45621</td>\n",
       "    </tr>\n",
       "    <tr>\n",
       "      <th>18</th>\n",
       "      <td>44 - 44.99</td>\n",
       "      <td>18232</td>\n",
       "    </tr>\n",
       "    <tr>\n",
       "      <th>19</th>\n",
       "      <td>45 - 45.99</td>\n",
       "      <td>76</td>\n",
       "    </tr>\n",
       "  </tbody>\n",
       "</table>\n",
       "</div>"
      ],
      "text/plain": [
       "     Longitude  Wildfire Count\n",
       "0   26 - 26.99           18783\n",
       "1   27 - 27.99           19245\n",
       "2   28 - 28.99            9553\n",
       "3   29 - 29.99           11235\n",
       "4   30 - 30.99           11845\n",
       "5   31 - 31.99           17054\n",
       "6   32 - 32.99           17655\n",
       "7   33 - 33.99           18831\n",
       "8   34 - 34.99           16058\n",
       "9   35 - 35.99           33136\n",
       "10  36 - 36.99           31470\n",
       "11  37 - 37.99           21295\n",
       "12  38 - 38.99           20665\n",
       "13  39 - 39.99           33664\n",
       "14  40 - 40.99           58424\n",
       "15  41 - 41.99           28695\n",
       "16  42 - 42.99           31893\n",
       "17  43 - 43.99           45621\n",
       "18  44 - 44.99           18232\n",
       "19  45 - 45.99              76"
      ]
     },
     "execution_count": 5,
     "metadata": {},
     "output_type": "execute_result"
    }
   ],
   "source": [
    "lon_fire_df = longitude_wfire_counter(fires)\n",
    "ax = sns.barplot(x=lon_fire_df[\"Longitude\"], y=lon_fire_df[\"Wildfire Count\"])\n",
    "for item in ax.get_xticklabels():\n",
    "    item.set_rotation(45)\n",
    "plt.show()\n",
    "\n",
    "lon_fire_df"
   ]
  },
  {
   "cell_type": "markdown",
   "id": "35ef6ef4",
   "metadata": {},
   "source": [
    "## Total wildfire count by year for latitude intervals"
   ]
  },
  {
   "cell_type": "code",
   "execution_count": 6,
   "id": "45212c87",
   "metadata": {
    "scrolled": true
   },
   "outputs": [
    {
     "name": "stdout",
     "output_type": "stream",
     "text": [
      "Latitude - Wildfire Count in 2013\n"
     ]
    },
    {
     "data": {
      "image/png": "[encoded data removed]",
      "text/plain": [
       "<Figure size 432x288 with 1 Axes>"
      ]
     },
     "metadata": {},
     "output_type": "display_data"
    },
    {
     "name": "stdout",
     "output_type": "stream",
     "text": [
      "Latitude - Wildfire Count in 2014\n"
     ]
    },
    {
     "data": {
      "image/png": "[encoded data removed]",
      "text/plain": [
       "<Figure size 432x288 with 1 Axes>"
      ]
     },
     "metadata": {},
     "output_type": "display_data"
    },
    {
     "name": "stdout",
     "output_type": "stream",
     "text": [
      "Latitude - Wildfire Count in 2015\n"
     ]
    },
    {
     "data": {
      "image/png": "[encoded data removed]",
      "text/plain": [
       "<Figure size 432x288 with 1 Axes>"
      ]
     },
     "metadata": {},
     "output_type": "display_data"
    },
    {
     "name": "stdout",
     "output_type": "stream",
     "text": [
      "Latitude - Wildfire Count in 2016\n"
     ]
    },
    {
     "data": {
      "image/png": "[encoded data removed]",
      "text/plain": [
       "<Figure size 432x288 with 1 Axes>"
      ]
     },
     "metadata": {},
     "output_type": "display_data"
    },
    {
     "name": "stdout",
     "output_type": "stream",
     "text": [
      "Latitude - Wildfire Count in 2017\n"
     ]
    },
    {
     "data": {
      "image/png": "[encoded data removed]",
      "text/plain": [
       "<Figure size 432x288 with 1 Axes>"
      ]
     },
     "metadata": {},
     "output_type": "display_data"
    },
    {
     "name": "stdout",
     "output_type": "stream",
     "text": [
      "Latitude - Wildfire Count in 2018\n"
     ]
    },
    {
     "data": {
      "image/png": "[encoded data removed]",
      "text/plain": [
       "<Figure size 432x288 with 1 Axes>"
      ]
     },
     "metadata": {},
     "output_type": "display_data"
    },
    {
     "name": "stdout",
     "output_type": "stream",
     "text": [
      "Latitude - Wildfire Count in 2019\n"
     ]
    },
    {
     "data": {
      "image/png": "[encoded data removed]",
      "text/plain": [
       "<Figure size 432x288 with 1 Axes>"
      ]
     },
     "metadata": {},
     "output_type": "display_data"
    },
    {
     "name": "stdout",
     "output_type": "stream",
     "text": [
      "Latitude - Wildfire Count in 2020\n"
     ]
    },
    {
     "data": {
      "image/png": "[encoded data removed]",
      "text/plain": [
       "<Figure size 432x288 with 1 Axes>"
      ]
     },
     "metadata": {},
     "output_type": "display_data"
    }
   ],
   "source": [
    "for year in range(2013, 2021, 1):\n",
    "    print(\"Latitude - Wildfire Count in\", year)\n",
    "    lat_fire_df = latitude_wfire_counter(fires[fires[\"acq_date\"].dt.year == year].copy())\n",
    "    ax = sns.barplot(x=lat_fire_df[\"Latitude\"], y=lat_fire_df[\"Wildfire Count\"])\n",
    "    for item in ax.get_xticklabels():\n",
    "        item.set_rotation(45)\n",
    "    plt.show()"
   ]
  },
  {
   "cell_type": "markdown",
   "id": "a0ef6955",
   "metadata": {},
   "source": [
    "## Total wildfire count by year for longitude intervals"
   ]
  },
  {
   "cell_type": "code",
   "execution_count": 7,
   "id": "74f9228c",
   "metadata": {},
   "outputs": [
    {
     "name": "stdout",
     "output_type": "stream",
     "text": [
      "Longitude - Wildfire Count in 2013\n"
     ]
    },
    {
     "data": {
      "image/png": "[encoded data removed]",
      "text/plain": [
       "<Figure size 432x288 with 1 Axes>"
      ]
     },
     "metadata": {},
     "output_type": "display_data"
    },
    {
     "name": "stdout",
     "output_type": "stream",
     "text": [
      "Longitude - Wildfire Count in 2014\n"
     ]
    },
    {
     "data": {
      "image/png": "[encoded data removed]",
      "text/plain": [
       "<Figure size 432x288 with 1 Axes>"
      ]
     },
     "metadata": {},
     "output_type": "display_data"
    },
    {
     "name": "stdout",
     "output_type": "stream",
     "text": [
      "Longitude - Wildfire Count in 2015\n"
     ]
    },
    {
     "data": {
      "image/png": "[encoded data removed]",
      "text/plain": [
       "<Figure size 432x288 with 1 Axes>"
      ]
     },
     "metadata": {},
     "output_type": "display_data"
    },
    {
     "name": "stdout",
     "output_type": "stream",
     "text": [
      "Longitude - Wildfire Count in 2016\n"
     ]
    },
    {
     "data": {
      "image/png": "[encoded data removed]",
      "text/plain": [
       "<Figure size 432x288 with 1 Axes>"
      ]
     },
     "metadata": {},
     "output_type": "display_data"
    },
    {
     "name": "stdout",
     "output_type": "stream",
     "text": [
      "Longitude - Wildfire Count in 2017\n"
     ]
    },
    {
     "data": {
      "image/png": "[encoded data removed]",
      "text/plain": [
       "<Figure size 432x288 with 1 Axes>"
      ]
     },
     "metadata": {},
     "output_type": "display_data"
    },
    {
     "name": "stdout",
     "output_type": "stream",
     "text": [
      "Longitude - Wildfire Count in 2018\n"
     ]
    },
    {
     "data": {
      "image/png": "[encoded data removed]",
      "text/plain": [
       "<Figure size 432x288 with 1 Axes>"
      ]
     },
     "metadata": {},
     "output_type": "display_data"
    },
    {
     "name": "stdout",
     "output_type": "stream",
     "text": [
      "Longitude - Wildfire Count in 2019\n"
     ]
    },
    {
     "data": {
      "image/png": "[encoded data removed]",
      "text/plain": [
       "<Figure size 432x288 with 1 Axes>"
      ]
     },
     "metadata": {},
     "output_type": "display_data"
    },
    {
     "name": "stdout",
     "output_type": "stream",
     "text": [
      "Longitude - Wildfire Count in 2020\n"
     ]
    },
    {
     "data": {
      "image/png": "[encoded data removed]",
      "text/plain": [
       "<Figure size 432x288 with 1 Axes>"
      ]
     },
     "metadata": {},
     "output_type": "display_data"
    }
   ],
   "source": [
    "for year in range(2013, 2021, 1):\n",
    "    print(\"Longitude - Wildfire Count in\", year)\n",
    "    lon_fire_df = longitude_wfire_counter(fires[fires[\"acq_date\"].dt.year == year].copy())\n",
    "    ax = sns.barplot(x=lon_fire_df[\"Longitude\"], y=lon_fire_df[\"Wildfire Count\"])\n",
    "    for item in ax.get_xticklabels():\n",
    "        item.set_rotation(45)\n",
    "    plt.show()"
   ]
  },
  {
   "cell_type": "markdown",
   "id": "9a436b8f",
   "metadata": {},
   "source": [
    "## Total wildfire count by year"
   ]
  },
  {
   "cell_type": "code",
   "execution_count": 8,
   "id": "4ba0679f",
   "metadata": {},
   "outputs": [
    {
     "data": {
      "image/png": "[encoded data removed]",
      "text/plain": [
       "<Figure size 432x288 with 1 Axes>"
      ]
     },
     "metadata": {},
     "output_type": "display_data"
    }
   ],
   "source": [
    "yearly_fire_count = []\n",
    "years = []\n",
    "\n",
    "for year in range(2013, 2021, 1):\n",
    "    yearly_fire_count.append(len(fires[fires[\"acq_date\"].dt.year == year]))\n",
    "    years.append(year)\n",
    "\n",
    "yearly_fire_count = np.array(yearly_fire_count)\n",
    "years = np.array(years)\n",
    "\n",
    "ax = sns.barplot(x=years, y=yearly_fire_count)\n",
    "_ = ax.set(xlabel='Year', ylabel='Wildfire Count')\n",
    "\n",
    "for item in ax.get_xticklabels():\n",
    "    item.set_rotation(45)\n",
    "    \n",
    "plt.show()"
   ]
  },
  {
   "cell_type": "markdown",
   "id": "648ce7ed",
   "metadata": {},
   "source": [
    "## Total wildfire count by month"
   ]
  },
  {
   "cell_type": "code",
   "execution_count": 9,
   "id": "355e2800",
   "metadata": {},
   "outputs": [
    {
     "data": {
      "image/png": "[encoded data removed]",
      "text/plain": [
       "<Figure size 432x288 with 1 Axes>"
      ]
     },
     "metadata": {},
     "output_type": "display_data"
    }
   ],
   "source": [
    "monthly_fire_count = []\n",
    "months = []\n",
    "\n",
    "for month in range(1, 13, 1):\n",
    "    monthly_fire_count.append(len(fires[fires[\"acq_date\"].dt.month == month]))\n",
    "    months.append(month)\n",
    "\n",
    "monthly_fire_count = np.array(monthly_fire_count)\n",
    "months = np.array(months)\n",
    "\n",
    "ax = sns.barplot(x=months, y=monthly_fire_count)\n",
    "_ = ax.set(xlabel='Month', ylabel='Wildfire Count')\n",
    "\n",
    "for item in ax.get_xticklabels():\n",
    "    item.set_rotation(45)\n",
    "    \n",
    "plt.show()"
   ]
  },
  {
   "cell_type": "markdown",
   "id": "eb01c195",
   "metadata": {},
   "source": [
    "## Distribution of detection confidence"
   ]
  },
  {
   "cell_type": "code",
   "execution_count": 10,
   "id": "1decb146",
   "metadata": {},
   "outputs": [
    {
     "data": {
      "image/png": "[encoded data removed]",
      "text/plain": [
       "<Figure size 432x288 with 1 Axes>"
      ]
     },
     "metadata": {},
     "output_type": "display_data"
    }
   ],
   "source": [
    "ax = sns.histplot(x=fires[\"confidence\"], bins=5)\n",
    "plt.show()"
   ]
  },
  {
   "cell_type": "markdown",
   "id": "04c07254",
   "metadata": {},
   "source": [
    "## Sample count of satellite types"
   ]
  },
  {
   "cell_type": "code",
   "execution_count": 11,
   "id": "97b8d126",
   "metadata": {},
   "outputs": [
    {
     "data": {
      "image/png": "[encoded data removed]",
      "text/plain": [
       "<Figure size 432x288 with 1 Axes>"
      ]
     },
     "metadata": {},
     "output_type": "display_data"
    }
   ],
   "source": [
    "ax = sns.countplot(x=fires[\"satellite\"])\n",
    "plt.show()"
   ]
  },
  {
   "cell_type": "markdown",
   "id": "70ac8522",
   "metadata": {},
   "source": [
    "## Sample count of instrument types"
   ]
  },
  {
   "cell_type": "code",
   "execution_count": 12,
   "id": "df15b864",
   "metadata": {},
   "outputs": [
    {
     "data": {
      "image/png": "[encoded data removed]",
      "text/plain": [
       "<Figure size 432x288 with 1 Axes>"
      ]
     },
     "metadata": {},
     "output_type": "display_data"
    }
   ],
   "source": [
    "ax = sns.countplot(x=fires[\"instrument\"])\n",
    "plt.show()"
   ]
  },
  {
   "cell_type": "markdown",
   "id": "289f9176",
   "metadata": {},
   "source": [
    "# 2. Analysis on Temperature Data"
   ]
  },
  {
   "cell_type": "markdown",
   "id": "e38f9a9d",
   "metadata": {},
   "source": [
    "## Reading the Data"
   ]
  },
  {
   "cell_type": "code",
   "execution_count": 13,
   "id": "592de9d2",
   "metadata": {},
   "outputs": [
    {
     "data": {
      "text/html": [
       "<div>\n",
       "<style scoped>\n",
       "    .dataframe tbody tr th:only-of-type {\n",
       "        vertical-align: middle;\n",
       "    }\n",
       "\n",
       "    .dataframe tbody tr th {\n",
       "        vertical-align: top;\n",
       "    }\n",
       "\n",
       "    .dataframe thead th {\n",
       "        text-align: right;\n",
       "    }\n",
       "</style>\n",
       "<table border=\"1\" class=\"dataframe\">\n",
       "  <thead>\n",
       "    <tr style=\"text-align: right;\">\n",
       "      <th></th>\n",
       "      <th>longitude_rounded</th>\n",
       "      <th>latitude_rounded</th>\n",
       "      <th>month</th>\n",
       "      <th>year</th>\n",
       "      <th>temperature_min</th>\n",
       "      <th>temperature_max</th>\n",
       "      <th>temperature_avg</th>\n",
       "    </tr>\n",
       "  </thead>\n",
       "  <tbody>\n",
       "    <tr>\n",
       "      <th>0</th>\n",
       "      <td>41.5</td>\n",
       "      <td>39.5</td>\n",
       "      <td>1</td>\n",
       "      <td>2010</td>\n",
       "      <td>-9.653281</td>\n",
       "      <td>0.584216</td>\n",
       "      <td>-4.722202</td>\n",
       "    </tr>\n",
       "    <tr>\n",
       "      <th>1</th>\n",
       "      <td>41.5</td>\n",
       "      <td>39.5</td>\n",
       "      <td>1</td>\n",
       "      <td>2011</td>\n",
       "      <td>-12.800349</td>\n",
       "      <td>-0.425585</td>\n",
       "      <td>-6.618499</td>\n",
       "    </tr>\n",
       "    <tr>\n",
       "      <th>2</th>\n",
       "      <td>41.5</td>\n",
       "      <td>39.5</td>\n",
       "      <td>1</td>\n",
       "      <td>2012</td>\n",
       "      <td>-14.500847</td>\n",
       "      <td>-2.926380</td>\n",
       "      <td>-8.831257</td>\n",
       "    </tr>\n",
       "    <tr>\n",
       "      <th>3</th>\n",
       "      <td>41.5</td>\n",
       "      <td>39.5</td>\n",
       "      <td>1</td>\n",
       "      <td>2013</td>\n",
       "      <td>-13.762959</td>\n",
       "      <td>-2.342323</td>\n",
       "      <td>-7.790593</td>\n",
       "    </tr>\n",
       "    <tr>\n",
       "      <th>4</th>\n",
       "      <td>41.5</td>\n",
       "      <td>39.5</td>\n",
       "      <td>1</td>\n",
       "      <td>2014</td>\n",
       "      <td>-14.346466</td>\n",
       "      <td>-1.696002</td>\n",
       "      <td>-8.878721</td>\n",
       "    </tr>\n",
       "  </tbody>\n",
       "</table>\n",
       "</div>"
      ],
      "text/plain": [
       "   longitude_rounded  latitude_rounded  month  year  temperature_min  \\\n",
       "0               41.5              39.5      1  2010        -9.653281   \n",
       "1               41.5              39.5      1  2011       -12.800349   \n",
       "2               41.5              39.5      1  2012       -14.500847   \n",
       "3               41.5              39.5      1  2013       -13.762959   \n",
       "4               41.5              39.5      1  2014       -14.346466   \n",
       "\n",
       "   temperature_max  temperature_avg  \n",
       "0         0.584216        -4.722202  \n",
       "1        -0.425585        -6.618499  \n",
       "2        -2.926380        -8.831257  \n",
       "3        -2.342323        -7.790593  \n",
       "4        -1.696002        -8.878721  "
      ]
     },
     "execution_count": 13,
     "metadata": {},
     "output_type": "execute_result"
    }
   ],
   "source": [
    "temp_df = pd.read_csv('../data/processed_data/temperatures.csv')\n",
    "temp_df = temp_df.rename(columns={\"latitude\":\"latitude_rounded\",\n",
    "                                 \"longitude\":\"longitude_rounded\"})\n",
    "temp_df[\"month\"] = temp_df[\"month\"].astype(int)\n",
    "temp_df[\"year\"] = temp_df[\"year\"].astype(int)\n",
    "\n",
    "temp_df.head()"
   ]
  },
  {
   "cell_type": "markdown",
   "id": "157f75bb",
   "metadata": {},
   "source": [
    "Calculating yearly temperature means for latitude-longitude pairs."
   ]
  },
  {
   "cell_type": "code",
   "execution_count": 14,
   "id": "b87f0b9c",
   "metadata": {},
   "outputs": [
    {
     "data": {
      "text/html": [
       "<div>\n",
       "<style scoped>\n",
       "    .dataframe tbody tr th:only-of-type {\n",
       "        vertical-align: middle;\n",
       "    }\n",
       "\n",
       "    .dataframe tbody tr th {\n",
       "        vertical-align: top;\n",
       "    }\n",
       "\n",
       "    .dataframe thead th {\n",
       "        text-align: right;\n",
       "    }\n",
       "</style>\n",
       "<table border=\"1\" class=\"dataframe\">\n",
       "  <thead>\n",
       "    <tr style=\"text-align: right;\">\n",
       "      <th></th>\n",
       "      <th>longitude_rounded</th>\n",
       "      <th>latitude_rounded</th>\n",
       "      <th>year</th>\n",
       "      <th>temperature_min</th>\n",
       "      <th>temperature_max</th>\n",
       "      <th>temperature_avg</th>\n",
       "    </tr>\n",
       "  </thead>\n",
       "  <tbody>\n",
       "    <tr>\n",
       "      <th>0</th>\n",
       "      <td>26.5</td>\n",
       "      <td>37.5</td>\n",
       "      <td>2010</td>\n",
       "      <td>14.058078</td>\n",
       "      <td>25.218401</td>\n",
       "      <td>19.732844</td>\n",
       "    </tr>\n",
       "    <tr>\n",
       "      <th>1</th>\n",
       "      <td>26.5</td>\n",
       "      <td>37.5</td>\n",
       "      <td>2011</td>\n",
       "      <td>12.526236</td>\n",
       "      <td>23.874211</td>\n",
       "      <td>18.137017</td>\n",
       "    </tr>\n",
       "    <tr>\n",
       "      <th>2</th>\n",
       "      <td>26.5</td>\n",
       "      <td>37.5</td>\n",
       "      <td>2012</td>\n",
       "      <td>10.485386</td>\n",
       "      <td>21.942438</td>\n",
       "      <td>16.268828</td>\n",
       "    </tr>\n",
       "    <tr>\n",
       "      <th>3</th>\n",
       "      <td>26.5</td>\n",
       "      <td>37.5</td>\n",
       "      <td>2013</td>\n",
       "      <td>13.048908</td>\n",
       "      <td>24.470545</td>\n",
       "      <td>18.863189</td>\n",
       "    </tr>\n",
       "    <tr>\n",
       "      <th>4</th>\n",
       "      <td>26.5</td>\n",
       "      <td>37.5</td>\n",
       "      <td>2014</td>\n",
       "      <td>13.774523</td>\n",
       "      <td>25.042523</td>\n",
       "      <td>19.322291</td>\n",
       "    </tr>\n",
       "  </tbody>\n",
       "</table>\n",
       "</div>"
      ],
      "text/plain": [
       "   longitude_rounded  latitude_rounded  year  temperature_min  \\\n",
       "0               26.5              37.5  2010        14.058078   \n",
       "1               26.5              37.5  2011        12.526236   \n",
       "2               26.5              37.5  2012        10.485386   \n",
       "3               26.5              37.5  2013        13.048908   \n",
       "4               26.5              37.5  2014        13.774523   \n",
       "\n",
       "   temperature_max  temperature_avg  \n",
       "0        25.218401        19.732844  \n",
       "1        23.874211        18.137017  \n",
       "2        21.942438        16.268828  \n",
       "3        24.470545        18.863189  \n",
       "4        25.042523        19.322291  "
      ]
     },
     "execution_count": 14,
     "metadata": {},
     "output_type": "execute_result"
    }
   ],
   "source": [
    "yearly_means = temp_df.groupby([\"longitude_rounded\", \"latitude_rounded\", \"year\"]).mean()\\\n",
    "               .drop(\"month\", axis=1).reset_index()\n",
    "yearly_means.head()"
   ]
  },
  {
   "cell_type": "markdown",
   "id": "15b8ddf7",
   "metadata": {},
   "source": [
    "Calculating monthly temperature means for latitude-longitude pairs."
   ]
  },
  {
   "cell_type": "code",
   "execution_count": 15,
   "id": "43d56d06",
   "metadata": {},
   "outputs": [
    {
     "data": {
      "text/html": [
       "<div>\n",
       "<style scoped>\n",
       "    .dataframe tbody tr th:only-of-type {\n",
       "        vertical-align: middle;\n",
       "    }\n",
       "\n",
       "    .dataframe tbody tr th {\n",
       "        vertical-align: top;\n",
       "    }\n",
       "\n",
       "    .dataframe thead th {\n",
       "        text-align: right;\n",
       "    }\n",
       "</style>\n",
       "<table border=\"1\" class=\"dataframe\">\n",
       "  <thead>\n",
       "    <tr style=\"text-align: right;\">\n",
       "      <th></th>\n",
       "      <th>longitude_rounded</th>\n",
       "      <th>latitude_rounded</th>\n",
       "      <th>month</th>\n",
       "      <th>temperature_min</th>\n",
       "      <th>temperature_max</th>\n",
       "      <th>temperature_avg</th>\n",
       "    </tr>\n",
       "  </thead>\n",
       "  <tbody>\n",
       "    <tr>\n",
       "      <th>0</th>\n",
       "      <td>26.5</td>\n",
       "      <td>37.5</td>\n",
       "      <td>1</td>\n",
       "      <td>5.379282</td>\n",
       "      <td>16.985875</td>\n",
       "      <td>11.563072</td>\n",
       "    </tr>\n",
       "    <tr>\n",
       "      <th>1</th>\n",
       "      <td>26.5</td>\n",
       "      <td>37.5</td>\n",
       "      <td>2</td>\n",
       "      <td>5.687182</td>\n",
       "      <td>18.276289</td>\n",
       "      <td>12.080855</td>\n",
       "    </tr>\n",
       "    <tr>\n",
       "      <th>2</th>\n",
       "      <td>26.5</td>\n",
       "      <td>37.5</td>\n",
       "      <td>3</td>\n",
       "      <td>7.893290</td>\n",
       "      <td>19.738563</td>\n",
       "      <td>13.815538</td>\n",
       "    </tr>\n",
       "    <tr>\n",
       "      <th>3</th>\n",
       "      <td>26.5</td>\n",
       "      <td>37.5</td>\n",
       "      <td>5</td>\n",
       "      <td>14.963395</td>\n",
       "      <td>26.711964</td>\n",
       "      <td>20.476336</td>\n",
       "    </tr>\n",
       "    <tr>\n",
       "      <th>4</th>\n",
       "      <td>26.5</td>\n",
       "      <td>37.5</td>\n",
       "      <td>7</td>\n",
       "      <td>21.473905</td>\n",
       "      <td>32.794598</td>\n",
       "      <td>27.029087</td>\n",
       "    </tr>\n",
       "  </tbody>\n",
       "</table>\n",
       "</div>"
      ],
      "text/plain": [
       "   longitude_rounded  latitude_rounded  month  temperature_min  \\\n",
       "0               26.5              37.5      1         5.379282   \n",
       "1               26.5              37.5      2         5.687182   \n",
       "2               26.5              37.5      3         7.893290   \n",
       "3               26.5              37.5      5        14.963395   \n",
       "4               26.5              37.5      7        21.473905   \n",
       "\n",
       "   temperature_max  temperature_avg  \n",
       "0        16.985875        11.563072  \n",
       "1        18.276289        12.080855  \n",
       "2        19.738563        13.815538  \n",
       "3        26.711964        20.476336  \n",
       "4        32.794598        27.029087  "
      ]
     },
     "execution_count": 15,
     "metadata": {},
     "output_type": "execute_result"
    }
   ],
   "source": [
    "monthly_means = temp_df.groupby([\"longitude_rounded\", \"latitude_rounded\", \"month\"]).mean()\\\n",
    "               .drop(\"year\", axis=1).reset_index()\n",
    "monthly_means.head()"
   ]
  },
  {
   "cell_type": "markdown",
   "id": "50c55ff1",
   "metadata": {},
   "source": [
    "## Yearly temperature means for Turkey"
   ]
  },
  {
   "cell_type": "code",
   "execution_count": 16,
   "id": "0033ba94",
   "metadata": {},
   "outputs": [
    {
     "data": {
      "image/png": "[encoded data removed]",
      "text/plain": [
       "<Figure size 432x288 with 1 Axes>"
      ]
     },
     "metadata": {},
     "output_type": "display_data"
    }
   ],
   "source": [
    "turkey_yearly_means = yearly_means.groupby(\"year\").mean().reset_index()\n",
    "\n",
    "ax = sns.lineplot(data=turkey_yearly_means, x=\"year\", y=\"temperature_avg\", label=\"Average Temperature\")\n",
    "ax_2 = sns.lineplot(data=turkey_yearly_means, x=\"year\", y=\"temperature_min\", label=\"Minimum Temperature\")\n",
    "ax_3 = sns.lineplot(data=turkey_yearly_means, x=\"year\", y=\"temperature_max\", label=\"Maximum Temperature\")\n",
    "ax = ax.set(xlabel='Year', ylabel='Temperature')\n",
    "plt.show()"
   ]
  },
  {
   "cell_type": "markdown",
   "id": "08e3620f",
   "metadata": {},
   "source": [
    "## Monthly temperature means for Turkey"
   ]
  },
  {
   "cell_type": "code",
   "execution_count": 17,
   "id": "a9028c0f",
   "metadata": {},
   "outputs": [
    {
     "name": "stdout",
     "output_type": "stream",
     "text": [
      "Maximum Temperature by year\n"
     ]
    },
    {
     "data": {
      "image/png": "[encoded data removed]",
      "text/plain": [
       "<Figure size 432x288 with 1 Axes>"
      ]
     },
     "metadata": {},
     "output_type": "display_data"
    },
    {
     "name": "stdout",
     "output_type": "stream",
     "text": [
      "Minimum Temperature by year\n"
     ]
    },
    {
     "data": {
      "image/png": "[encoded data removed]",
      "text/plain": [
       "<Figure size 432x288 with 1 Axes>"
      ]
     },
     "metadata": {},
     "output_type": "display_data"
    },
    {
     "name": "stdout",
     "output_type": "stream",
     "text": [
      "Average Temperature by year\n"
     ]
    },
    {
     "data": {
      "image/png": "[encoded data removed]",
      "text/plain": [
       "<Figure size 432x288 with 1 Axes>"
      ]
     },
     "metadata": {},
     "output_type": "display_data"
    }
   ],
   "source": [
    "cols = [\"temperature_max\", \"temperature_min\", \"temperature_avg\"]\n",
    "col_labels = [\"Maximum Temperature\", \"Minimum Temperature\", \"Average Temperature\"]\n",
    "\n",
    "for col_i, col in enumerate(cols):\n",
    "    print(col_labels[col_i], \"by year\")\n",
    "    ax = sns.boxplot(x=\"year\", y=col, data=yearly_means, palette=\"Set3\")\n",
    "    for item in ax.get_xticklabels():\n",
    "        item.set_rotation(45)\n",
    "    ax = ax.set(xlabel='Year', ylabel='Temperature')\n",
    "    plt.show()"
   ]
  },
  {
   "cell_type": "markdown",
   "id": "178a0f3d",
   "metadata": {},
   "source": [
    "## Temperature distribution for latitude and longitude\n",
    "The distributions are brought from all the data."
   ]
  },
  {
   "cell_type": "code",
   "execution_count": 18,
   "id": "efa55388",
   "metadata": {},
   "outputs": [
    {
     "data": {
      "image/png": "[encoded data removed]",
      "text/plain": [
       "<Figure size 432x288 with 1 Axes>"
      ]
     },
     "metadata": {},
     "output_type": "display_data"
    },
    {
     "data": {
      "image/png": "[encoded data removed]",
      "text/plain": [
       "<Figure size 432x288 with 1 Axes>"
      ]
     },
     "metadata": {},
     "output_type": "display_data"
    }
   ],
   "source": [
    "ax = sns.boxplot(data=temp_df, x=\"latitude_rounded\", y=\"temperature_avg\")\n",
    "ax = ax.set(xlabel='Latitude', ylabel='Temperature')\n",
    "plt.show()\n",
    "\n",
    "ax = sns.boxplot(data=temp_df, x=\"longitude_rounded\", y=\"temperature_avg\")\n",
    "for item in ax.get_xticklabels():\n",
    "        item.set_rotation(45)\n",
    "ax = ax.set(xlabel='Longitude', ylabel='Temperature')\n",
    "plt.show()"
   ]
  },
  {
   "cell_type": "markdown",
   "id": "f865aea9",
   "metadata": {},
   "source": [
    "## Minimum, maximum and average temperatures for each month\n",
    "Taking the average of the monthly temperature data by years."
   ]
  },
  {
   "cell_type": "code",
   "execution_count": 19,
   "id": "4d76978b",
   "metadata": {},
   "outputs": [
    {
     "data": {
      "image/png": "[encoded data removed]",
      "text/plain": [
       "<Figure size 432x288 with 1 Axes>"
      ]
     },
     "metadata": {},
     "output_type": "display_data"
    }
   ],
   "source": [
    "turkey_monthly_means = monthly_means.groupby(\"month\").mean().reset_index()\n",
    "\n",
    "ax = sns.lineplot(data=turkey_monthly_means, x=\"month\", y=\"temperature_avg\", label=\"Average Temperature\")\n",
    "ax_2 = sns.lineplot(data=turkey_monthly_means, x=\"month\", y=\"temperature_min\", label=\"Minimum Temperature\")\n",
    "ax_3 = sns.lineplot(data=turkey_monthly_means, x=\"month\", y=\"temperature_max\", label=\"Maximum Temperature\")\n",
    "ax = ax.set(xlabel='Month', ylabel='Temperature')\n",
    "plt.show()"
   ]
  },
  {
   "cell_type": "markdown",
   "id": "f7b9467d",
   "metadata": {},
   "source": [
    "## Minimum, maximum and average temperature distributions for each month\n",
    "Monthly temperature values are brought from all years."
   ]
  },
  {
   "cell_type": "code",
   "execution_count": 20,
   "id": "4f65372e",
   "metadata": {},
   "outputs": [
    {
     "name": "stdout",
     "output_type": "stream",
     "text": [
      "Maximum Temperature by month\n"
     ]
    },
    {
     "data": {
      "image/png": "[encoded data removed]",
      "text/plain": [
       "<Figure size 432x288 with 1 Axes>"
      ]
     },
     "metadata": {},
     "output_type": "display_data"
    },
    {
     "name": "stdout",
     "output_type": "stream",
     "text": [
      "Minimum Temperature by month\n"
     ]
    },
    {
     "data": {
      "image/png": "[encoded data removed]",
      "text/plain": [
       "<Figure size 432x288 with 1 Axes>"
      ]
     },
     "metadata": {},
     "output_type": "display_data"
    },
    {
     "name": "stdout",
     "output_type": "stream",
     "text": [
      "Average Temperature by month\n"
     ]
    },
    {
     "data": {
      "image/png": "[encoded data removed]",
      "text/plain": [
       "<Figure size 432x288 with 1 Axes>"
      ]
     },
     "metadata": {},
     "output_type": "display_data"
    }
   ],
   "source": [
    "cols = [\"temperature_max\", \"temperature_min\", \"temperature_avg\"]\n",
    "col_labels = [\"Maximum Temperature\", \"Minimum Temperature\", \"Average Temperature\"]\n",
    "\n",
    "for col_i, col in enumerate(cols):\n",
    "    print(col_labels[col_i], \"by month\")\n",
    "    ax = sns.boxplot(x=\"month\", y=col, data=monthly_means, palette=\"Set3\")\n",
    "    for item in ax.get_xticklabels():\n",
    "        item.set_rotation(45)\n",
    "    ax = ax.set(xlabel='Month', ylabel='Temperature')\n",
    "    plt.show()"
   ]
  },
  {
   "cell_type": "markdown",
   "id": "af0658f2",
   "metadata": {},
   "source": [
    "# 3. Analysis on Final Training Data"
   ]
  },
  {
   "cell_type": "markdown",
   "id": "181e63f5",
   "metadata": {},
   "source": [
    "## Reading the Data"
   ]
  },
  {
   "cell_type": "code",
   "execution_count": 3,
   "id": "e60c54bd",
   "metadata": {},
   "outputs": [
    {
     "data": {
      "text/html": [
       "<div>\n",
       "<style scoped>\n",
       "    .dataframe tbody tr th:only-of-type {\n",
       "        vertical-align: middle;\n",
       "    }\n",
       "\n",
       "    .dataframe tbody tr th {\n",
       "        vertical-align: top;\n",
       "    }\n",
       "\n",
       "    .dataframe thead th {\n",
       "        text-align: right;\n",
       "    }\n",
       "</style>\n",
       "<table border=\"1\" class=\"dataframe\">\n",
       "  <thead>\n",
       "    <tr style=\"text-align: right;\">\n",
       "      <th></th>\n",
       "      <th>latitude</th>\n",
       "      <th>longitude</th>\n",
       "      <th>year</th>\n",
       "      <th>month</th>\n",
       "      <th>fire_cnt</th>\n",
       "      <th>fire</th>\n",
       "      <th>fire_cnt_before</th>\n",
       "      <th>fire_before</th>\n",
       "      <th>fire_cnt_last_year</th>\n",
       "      <th>fire_last_year</th>\n",
       "      <th>fire_cnt_last_year_same_month</th>\n",
       "      <th>fire_last_year_same_month</th>\n",
       "      <th>latitude_rounded</th>\n",
       "      <th>longitude_rounded</th>\n",
       "      <th>temperature_min</th>\n",
       "      <th>temperature_max</th>\n",
       "      <th>temperature_avg</th>\n",
       "    </tr>\n",
       "  </thead>\n",
       "  <tbody>\n",
       "    <tr>\n",
       "      <th>0</th>\n",
       "      <td>36.0</td>\n",
       "      <td>26.0</td>\n",
       "      <td>2013</td>\n",
       "      <td>7</td>\n",
       "      <td>0.0</td>\n",
       "      <td>0</td>\n",
       "      <td>NaN</td>\n",
       "      <td>NaN</td>\n",
       "      <td>NaN</td>\n",
       "      <td>NaN</td>\n",
       "      <td>NaN</td>\n",
       "      <td>NaN</td>\n",
       "      <td>36.5</td>\n",
       "      <td>26.5</td>\n",
       "      <td>NaN</td>\n",
       "      <td>NaN</td>\n",
       "      <td>NaN</td>\n",
       "    </tr>\n",
       "    <tr>\n",
       "      <th>1</th>\n",
       "      <td>36.0</td>\n",
       "      <td>26.0</td>\n",
       "      <td>2013</td>\n",
       "      <td>6</td>\n",
       "      <td>0.0</td>\n",
       "      <td>0</td>\n",
       "      <td>NaN</td>\n",
       "      <td>NaN</td>\n",
       "      <td>NaN</td>\n",
       "      <td>NaN</td>\n",
       "      <td>NaN</td>\n",
       "      <td>NaN</td>\n",
       "      <td>36.5</td>\n",
       "      <td>26.5</td>\n",
       "      <td>NaN</td>\n",
       "      <td>NaN</td>\n",
       "      <td>NaN</td>\n",
       "    </tr>\n",
       "    <tr>\n",
       "      <th>2</th>\n",
       "      <td>36.0</td>\n",
       "      <td>26.0</td>\n",
       "      <td>2013</td>\n",
       "      <td>8</td>\n",
       "      <td>0.0</td>\n",
       "      <td>0</td>\n",
       "      <td>NaN</td>\n",
       "      <td>NaN</td>\n",
       "      <td>NaN</td>\n",
       "      <td>NaN</td>\n",
       "      <td>NaN</td>\n",
       "      <td>NaN</td>\n",
       "      <td>36.5</td>\n",
       "      <td>26.5</td>\n",
       "      <td>NaN</td>\n",
       "      <td>NaN</td>\n",
       "      <td>NaN</td>\n",
       "    </tr>\n",
       "    <tr>\n",
       "      <th>3</th>\n",
       "      <td>36.0</td>\n",
       "      <td>26.0</td>\n",
       "      <td>2013</td>\n",
       "      <td>9</td>\n",
       "      <td>0.0</td>\n",
       "      <td>0</td>\n",
       "      <td>NaN</td>\n",
       "      <td>NaN</td>\n",
       "      <td>NaN</td>\n",
       "      <td>NaN</td>\n",
       "      <td>NaN</td>\n",
       "      <td>NaN</td>\n",
       "      <td>36.5</td>\n",
       "      <td>26.5</td>\n",
       "      <td>NaN</td>\n",
       "      <td>NaN</td>\n",
       "      <td>NaN</td>\n",
       "    </tr>\n",
       "    <tr>\n",
       "      <th>4</th>\n",
       "      <td>36.0</td>\n",
       "      <td>26.0</td>\n",
       "      <td>2013</td>\n",
       "      <td>5</td>\n",
       "      <td>0.0</td>\n",
       "      <td>0</td>\n",
       "      <td>NaN</td>\n",
       "      <td>NaN</td>\n",
       "      <td>NaN</td>\n",
       "      <td>NaN</td>\n",
       "      <td>NaN</td>\n",
       "      <td>NaN</td>\n",
       "      <td>36.5</td>\n",
       "      <td>26.5</td>\n",
       "      <td>NaN</td>\n",
       "      <td>NaN</td>\n",
       "      <td>NaN</td>\n",
       "    </tr>\n",
       "  </tbody>\n",
       "</table>\n",
       "</div>"
      ],
      "text/plain": [
       "   latitude  longitude  year  month  fire_cnt  fire  fire_cnt_before  \\\n",
       "0      36.0       26.0  2013      7       0.0     0              NaN   \n",
       "1      36.0       26.0  2013      6       0.0     0              NaN   \n",
       "2      36.0       26.0  2013      8       0.0     0              NaN   \n",
       "3      36.0       26.0  2013      9       0.0     0              NaN   \n",
       "4      36.0       26.0  2013      5       0.0     0              NaN   \n",
       "\n",
       "   fire_before  fire_cnt_last_year  fire_last_year  \\\n",
       "0          NaN                 NaN             NaN   \n",
       "1          NaN                 NaN             NaN   \n",
       "2          NaN                 NaN             NaN   \n",
       "3          NaN                 NaN             NaN   \n",
       "4          NaN                 NaN             NaN   \n",
       "\n",
       "   fire_cnt_last_year_same_month  fire_last_year_same_month  latitude_rounded  \\\n",
       "0                            NaN                        NaN              36.5   \n",
       "1                            NaN                        NaN              36.5   \n",
       "2                            NaN                        NaN              36.5   \n",
       "3                            NaN                        NaN              36.5   \n",
       "4                            NaN                        NaN              36.5   \n",
       "\n",
       "   longitude_rounded  temperature_min  temperature_max  temperature_avg  \n",
       "0               26.5              NaN              NaN              NaN  \n",
       "1               26.5              NaN              NaN              NaN  \n",
       "2               26.5              NaN              NaN              NaN  \n",
       "3               26.5              NaN              NaN              NaN  \n",
       "4               26.5              NaN              NaN              NaN  "
      ]
     },
     "execution_count": 3,
     "metadata": {},
     "output_type": "execute_result"
    }
   ],
   "source": [
    "full_df = pd.read_csv('../data/train_val_test_data/full_data.csv')\n",
    "full_df.head()"
   ]
  },
  {
   "cell_type": "code",
   "execution_count": 47,
   "id": "8b1f1799",
   "metadata": {
    "scrolled": false
   },
   "outputs": [
    {
     "data": {
      "application/vnd.plotly.v1+json": {
       "config": {
        "plotlyServerURL": "https://plot.ly"
       },
       "data": [
        {
         "coloraxis": "coloraxis",
         "hovertemplate": "x: %{x}<br>y: %{y}<br>color: %{z}<extra></extra>",
         "name": "0",
         "type": "heatmap",
         "x": [
          "latitude",
          "longitude",
          "year",
          "month",
          "fire_cnt",
          "fire",
          "fire_cnt_before",
          "fire_before",
          "fire_cnt_last_year",
          "fire_last_year",
          "fire_cnt_last_year_same_month",
          "fire_last_year_same_month",
          "latitude_rounded",
          "longitude_rounded",
          "temperature_min",
          "temperature_max",
          "temperature_avg"
         ],
         "xaxis": "x",
         "y": [
          "latitude",
          "longitude",
          "year",
          "month",
          "fire_cnt",
          "fire",
          "fire_cnt_before",
          "fire_before",
          "fire_cnt_last_year",
          "fire_last_year",
          "fire_cnt_last_year_same_month",
          "fire_last_year_same_month",
          "latitude_rounded",
          "longitude_rounded",
          "temperature_min",
          "temperature_max",
          "temperature_avg"
         ],
         "yaxis": "y",
         "z": [
          [
           1,
           2.699480487872279e-14,
           -7.531323455915657e-12,
           1.4088600995787835e-14,
           -0.051506803172676065,
           -0.06964834466983529,
           -0.11954656923998361,
           -0.17146222028424413,
           -0.16182913523566825,
           -0.1823796490632544,
           -0.059598787256993066,
           -0.07132058073987069,
           0.9861502720116601,
           1.471574080684128e-13,
           -0.2221057492015504,
           -0.21541276826481753,
           -0.22020619666840743
          ],
          [
           2.699480487872279e-14,
           1,
           -6.359284938596921e-14,
           1.9220896016305554e-16,
           0.03256804312165939,
           0.05093387743630302,
           0.06576735543662049,
           0.12227373560536735,
           0.11869899733194945,
           0.13743033160123982,
           0.0437147259008931,
           0.05374289900993617,
           2.283124651946448e-14,
           0.9986278294540868,
           -0.15229150655257903,
           -0.13993134182600311,
           -0.1489608710577466
          ],
          [
           -7.531323455915657e-12,
           -6.359284938596921e-14,
           1,
           3.511383159849078e-17,
           -0.0009215958923392615,
           -0.004689402375795634,
           0.05952537264450067,
           0.07551939316644384,
           0.004628803095670914,
           0.009685532941973954,
           0.0017047057104498874,
           0.0037875817710175965,
           -7.623825200587946e-12,
           -6.354377969429747e-14,
           -0.07247617526096027,
           -0.06872744846978311,
           -0.0723074532939598
          ],
          [
           1.4088600995787835e-14,
           1.9220896016305554e-16,
           3.511383159849078e-17,
           1,
           0.018810511014938077,
           0.03000374627271004,
           -1.0239140391483815e-16,
           -4.571068688698985e-16,
           -7.520314168143144e-16,
           -1.1037872195939128e-15,
           0.023123131429011103,
           0.03216558782641682,
           1.4785299998008407e-14,
           1.9376600947014241e-16,
           0.2598295425308446,
           0.24696126141104963,
           0.26202154215706314
          ],
          [
           -0.051506803172676065,
           0.03256804312165939,
           -0.0009215958923392615,
           0.018810511014938077,
           1,
           0.5805701096746689,
           0.31952546949297866,
           0.2304760748298891,
           0.16806639888880295,
           0.13511383936175858,
           0.3561480260481729,
           0.21260997670920442,
           -0.050463850266598026,
           0.032780289076576104,
           0.08979889358999295,
           0.0894901922542212,
           0.08993040486860643
          ],
          [
           -0.06964834466983529,
           0.05093387743630302,
           -0.004689402375795634,
           0.03000374627271004,
           0.5805701096746689,
           1,
           0.21511142941206385,
           0.3493096664086155,
           0.18534534820245502,
           0.17929331555851558,
           0.28168048506433907,
           0.2581190249181417,
           -0.06915234383871559,
           0.05114182192860324,
           0.10243235389507602,
           0.10234356538112425,
           0.10271510207246033
          ],
          [
           -0.11954656923998361,
           0.06576735543662049,
           0.05952537264450067,
           -1.0239140391483815e-16,
           0.31952546949297866,
           0.21511142941206385,
           1,
           0.6280933881801185,
           0.32571438578688866,
           0.273217870758526,
           0.1199548051516652,
           0.10684337485620585,
           -0.11774277602094196,
           0.06619295263562949,
           0.0467960051034276,
           0.047355909994749715,
           0.047134925345676
          ],
          [
           -0.17146222028424413,
           0.12227373560536735,
           0.07551939316644384,
           -4.571068688698985e-16,
           0.2304760748298891,
           0.3493096664086155,
           0.6280933881801185,
           1,
           0.4171838385511151,
           0.40991704992905176,
           0.15364137492704988,
           0.16030035262309625,
           -0.1706607193277679,
           0.12276464836728947,
           0.060105301846650035,
           0.06084761169996734,
           0.060477118685667595
          ],
          [
           -0.16182913523566825,
           0.11869899733194945,
           0.004628803095670914,
           -7.520314168143144e-16,
           0.16806639888880295,
           0.18534534820245502,
           0.32571438578688866,
           0.4171838385511151,
           1,
           0.8025313470966676,
           0.3682821833670855,
           0.313834367106568,
           -0.15812267635231175,
           0.1194645964750476,
           0.04639081259729199,
           0.0491113829127338,
           0.04802017784797629
          ],
          [
           -0.1823796490632544,
           0.13743033160123982,
           0.009685532941973954,
           -1.1037872195939128e-15,
           0.13511383936175858,
           0.17929331555851558,
           0.273217870758526,
           0.40991704992905176,
           0.8025313470966676,
           1,
           0.2955579967292782,
           0.3910555871019472,
           -0.1809710762002244,
           0.13799288343999622,
           0.05043459074222856,
           0.05359956411556627,
           0.05237630225619485
          ],
          [
           -0.059598787256993066,
           0.0437147259008931,
           0.0017047057104498874,
           0.023123131429011103,
           0.3561480260481729,
           0.28168048506433907,
           0.1199548051516652,
           0.15364137492704988,
           0.3682821833670855,
           0.2955579967292782,
           1,
           0.6584492418797542,
           -0.05823376448687192,
           0.04399668242489732,
           0.08197850232535565,
           0.08131877304288333,
           0.08207761350341133
          ],
          [
           -0.07132058073987069,
           0.05374289900993617,
           0.0037875817710175965,
           0.03216558782641682,
           0.21260997670920442,
           0.2581190249181417,
           0.10684337485620585,
           0.16030035262309625,
           0.313834367106568,
           0.3910555871019472,
           0.6584492418797542,
           1,
           -0.07076975045194397,
           0.05396288804951825,
           0.09340191318448512,
           0.09304769165667091,
           0.09371831118100933
          ],
          [
           0.9861502720116601,
           2.283124651946448e-14,
           -7.623825200587946e-12,
           1.4785299998008407e-14,
           -0.050463850266598026,
           -0.06915234383871559,
           -0.11774277602094196,
           -0.1706607193277679,
           -0.15812267635231175,
           -0.1809710762002244,
           -0.05823376448687192,
           -0.07076975045194397,
           1,
           1.3870258098549323e-13,
           -0.22532433844147762,
           -0.2185343678657739,
           -0.223397259023659
          ],
          [
           1.471574080684128e-13,
           0.9986278294540868,
           -6.354377969429747e-14,
           1.9376600947014241e-16,
           0.032780289076576104,
           0.05114182192860324,
           0.06619295263562949,
           0.12276464836728947,
           0.1194645964750476,
           0.13799288343999622,
           0.04399668242489732,
           0.05396288804951825,
           1.3870258098549323e-13,
           1,
           -0.15250177549056146,
           -0.14012454508009053,
           -0.1491665413861116
          ],
          [
           -0.2221057492015504,
           -0.15229150655257903,
           -0.07247617526096027,
           0.2598295425308446,
           0.08979889358999295,
           0.10243235389507602,
           0.0467960051034276,
           0.060105301846650035,
           0.04639081259729199,
           0.05043459074222856,
           0.08197850232535565,
           0.09340191318448512,
           -0.22532433844147762,
           -0.15250177549056146,
           1,
           0.9946889930509635,
           0.9984895130933364
          ],
          [
           -0.21541276826481753,
           -0.13993134182600311,
           -0.06872744846978311,
           0.24696126141104963,
           0.0894901922542212,
           0.10234356538112425,
           0.047355909994749715,
           0.06084761169996734,
           0.0491113829127338,
           0.05359956411556627,
           0.08131877304288333,
           0.09304769165667091,
           -0.2185343678657739,
           -0.14012454508009053,
           0.9946889930509635,
           1,
           0.9974387751310917
          ],
          [
           -0.22020619666840743,
           -0.1489608710577466,
           -0.0723074532939598,
           0.26202154215706314,
           0.08993040486860643,
           0.10271510207246033,
           0.047134925345676,
           0.060477118685667595,
           0.04802017784797629,
           0.05237630225619485,
           0.08207761350341133,
           0.09371831118100933,
           -0.223397259023659,
           -0.1491665413861116,
           0.9984895130933364,
           0.9974387751310917,
           1
          ]
         ]
        }
       ],
       "layout": {
        "coloraxis": {
         "colorscale": [
          [
           0,
           "rgb(103,0,31)"
          ],
          [
           0.1,
           "rgb(178,24,43)"
          ],
          [
           0.2,
           "rgb(214,96,77)"
          ],
          [
           0.3,
           "rgb(244,165,130)"
          ],
          [
           0.4,
           "rgb(253,219,199)"
          ],
          [
           0.5,
           "rgb(247,247,247)"
          ],
          [
           0.6,
           "rgb(209,229,240)"
          ],
          [
           0.7,
           "rgb(146,197,222)"
          ],
          [
           0.8,
           "rgb(67,147,195)"
          ],
          [
           0.9,
           "rgb(33,102,172)"
          ],
          [
           1,
           "rgb(5,48,97)"
          ]
         ]
        },
        "margin": {
         "t": 60
        },
        "template": {
         "data": {
          "bar": [
           {
            "error_x": {
             "color": "#2a3f5f"
            },
            "error_y": {
             "color": "#2a3f5f"
            },
            "marker": {
             "line": {
              "color": "#E5ECF6",
              "width": 0.5
             },
             "pattern": {
              "fillmode": "overlay",
              "size": 10,
              "solidity": 0.2
             }
            },
            "type": "bar"
           }
          ],
          "barpolar": [
           {
            "marker": {
             "line": {
              "color": "#E5ECF6",
              "width": 0.5
             },
             "pattern": {
              "fillmode": "overlay",
              "size": 10,
              "solidity": 0.2
             }
            },
            "type": "barpolar"
           }
          ],
          "carpet": [
           {
            "aaxis": {
             "endlinecolor": "#2a3f5f",
             "gridcolor": "white",
             "linecolor": "white",
             "minorgridcolor": "white",
             "startlinecolor": "#2a3f5f"
            },
            "baxis": {
             "endlinecolor": "#2a3f5f",
             "gridcolor": "white",
             "linecolor": "white",
             "minorgridcolor": "white",
             "startlinecolor": "#2a3f5f"
            },
            "type": "carpet"
           }
          ],
          "choropleth": [
           {
            "colorbar": {
             "outlinewidth": 0,
             "ticks": ""
            },
            "type": "choropleth"
           }
          ],
          "contour": [
           {
            "colorbar": {
             "outlinewidth": 0,
             "ticks": ""
            },
            "colorscale": [
             [
              0,
              "#0d0887"
             ],
             [
              0.1111111111111111,
              "#46039f"
             ],
             [
              0.2222222222222222,
              "#7201a8"
             ],
             [
              0.3333333333333333,
              "#9c179e"
             ],
             [
              0.4444444444444444,
              "#bd3786"
             ],
             [
              0.5555555555555556,
              "#d8576b"
             ],
             [
              0.6666666666666666,
              "#ed7953"
             ],
             [
              0.7777777777777778,
              "#fb9f3a"
             ],
             [
              0.8888888888888888,
              "#fdca26"
             ],
             [
              1,
              "#f0f921"
             ]
            ],
            "type": "contour"
           }
          ],
          "contourcarpet": [
           {
            "colorbar": {
             "outlinewidth": 0,
             "ticks": ""
            },
            "type": "contourcarpet"
           }
          ],
          "heatmap": [
           {
            "colorbar": {
             "outlinewidth": 0,
             "ticks": ""
            },
            "colorscale": [
             [
              0,
              "#0d0887"
             ],
             [
              0.1111111111111111,
              "#46039f"
             ],
             [
              0.2222222222222222,
              "#7201a8"
             ],
             [
              0.3333333333333333,
              "#9c179e"
             ],
             [
              0.4444444444444444,
              "#bd3786"
             ],
             [
              0.5555555555555556,
              "#d8576b"
             ],
             [
              0.6666666666666666,
              "#ed7953"
             ],
             [
              0.7777777777777778,
              "#fb9f3a"
             ],
             [
              0.8888888888888888,
              "#fdca26"
             ],
             [
              1,
              "#f0f921"
             ]
            ],
            "type": "heatmap"
           }
          ],
          "heatmapgl": [
           {
            "colorbar": {
             "outlinewidth": 0,
             "ticks": ""
            },
            "colorscale": [
             [
              0,
              "#0d0887"
             ],
             [
              0.1111111111111111,
              "#46039f"
             ],
             [
              0.2222222222222222,
              "#7201a8"
             ],
             [
              0.3333333333333333,
              "#9c179e"
             ],
             [
              0.4444444444444444,
              "#bd3786"
             ],
             [
              0.5555555555555556,
              "#d8576b"
             ],
             [
              0.6666666666666666,
              "#ed7953"
             ],
             [
              0.7777777777777778,
              "#fb9f3a"
             ],
             [
              0.8888888888888888,
              "#fdca26"
             ],
             [
              1,
              "#f0f921"
             ]
            ],
            "type": "heatmapgl"
           }
          ],
          "histogram": [
           {
            "marker": {
             "pattern": {
              "fillmode": "overlay",
              "size": 10,
              "solidity": 0.2
             }
            },
            "type": "histogram"
           }
          ],
          "histogram2d": [
           {
            "colorbar": {
             "outlinewidth": 0,
             "ticks": ""
            },
            "colorscale": [
             [
              0,
              "#0d0887"
             ],
             [
              0.1111111111111111,
              "#46039f"
             ],
             [
              0.2222222222222222,
              "#7201a8"
             ],
             [
              0.3333333333333333,
              "#9c179e"
             ],
             [
              0.4444444444444444,
              "#bd3786"
             ],
             [
              0.5555555555555556,
              "#d8576b"
             ],
             [
              0.6666666666666666,
              "#ed7953"
             ],
             [
              0.7777777777777778,
              "#fb9f3a"
             ],
             [
              0.8888888888888888,
              "#fdca26"
             ],
             [
              1,
              "#f0f921"
             ]
            ],
            "type": "histogram2d"
           }
          ],
          "histogram2dcontour": [
           {
            "colorbar": {
             "outlinewidth": 0,
             "ticks": ""
            },
            "colorscale": [
             [
              0,
              "#0d0887"
             ],
             [
              0.1111111111111111,
              "#46039f"
             ],
             [
              0.2222222222222222,
              "#7201a8"
             ],
             [
              0.3333333333333333,
              "#9c179e"
             ],
             [
              0.4444444444444444,
              "#bd3786"
             ],
             [
              0.5555555555555556,
              "#d8576b"
             ],
             [
              0.6666666666666666,
              "#ed7953"
             ],
             [
              0.7777777777777778,
              "#fb9f3a"
             ],
             [
              0.8888888888888888,
              "#fdca26"
             ],
             [
              1,
              "#f0f921"
             ]
            ],
            "type": "histogram2dcontour"
           }
          ],
          "mesh3d": [
           {
            "colorbar": {
             "outlinewidth": 0,
             "ticks": ""
            },
            "type": "mesh3d"
           }
          ],
          "parcoords": [
           {
            "line": {
             "colorbar": {
              "outlinewidth": 0,
              "ticks": ""
             }
            },
            "type": "parcoords"
           }
          ],
          "pie": [
           {
            "automargin": true,
            "type": "pie"
           }
          ],
          "scatter": [
           {
            "marker": {
             "colorbar": {
              "outlinewidth": 0,
              "ticks": ""
             }
            },
            "type": "scatter"
           }
          ],
          "scatter3d": [
           {
            "line": {
             "colorbar": {
              "outlinewidth": 0,
              "ticks": ""
             }
            },
            "marker": {
             "colorbar": {
              "outlinewidth": 0,
              "ticks": ""
             }
            },
            "type": "scatter3d"
           }
          ],
          "scattercarpet": [
           {
            "marker": {
             "colorbar": {
              "outlinewidth": 0,
              "ticks": ""
             }
            },
            "type": "scattercarpet"
           }
          ],
          "scattergeo": [
           {
            "marker": {
             "colorbar": {
              "outlinewidth": 0,
              "ticks": ""
             }
            },
            "type": "scattergeo"
           }
          ],
          "scattergl": [
           {
            "marker": {
             "colorbar": {
              "outlinewidth": 0,
              "ticks": ""
             }
            },
            "type": "scattergl"
           }
          ],
          "scattermapbox": [
           {
            "marker": {
             "colorbar": {
              "outlinewidth": 0,
              "ticks": ""
             }
            },
            "type": "scattermapbox"
           }
          ],
          "scatterpolar": [
           {
            "marker": {
             "colorbar": {
              "outlinewidth": 0,
              "ticks": ""
             }
            },
            "type": "scatterpolar"
           }
          ],
          "scatterpolargl": [
           {
            "marker": {
             "colorbar": {
              "outlinewidth": 0,
              "ticks": ""
             }
            },
            "type": "scatterpolargl"
           }
          ],
          "scatterternary": [
           {
            "marker": {
             "colorbar": {
              "outlinewidth": 0,
              "ticks": ""
             }
            },
            "type": "scatterternary"
           }
          ],
          "surface": [
           {
            "colorbar": {
             "outlinewidth": 0,
             "ticks": ""
            },
            "colorscale": [
             [
              0,
              "#0d0887"
             ],
             [
              0.1111111111111111,
              "#46039f"
             ],
             [
              0.2222222222222222,
              "#7201a8"
             ],
             [
              0.3333333333333333,
              "#9c179e"
             ],
             [
              0.4444444444444444,
              "#bd3786"
             ],
             [
              0.5555555555555556,
              "#d8576b"
             ],
             [
              0.6666666666666666,
              "#ed7953"
             ],
             [
              0.7777777777777778,
              "#fb9f3a"
             ],
             [
              0.8888888888888888,
              "#fdca26"
             ],
             [
              1,
              "#f0f921"
             ]
            ],
            "type": "surface"
           }
          ],
          "table": [
           {
            "cells": {
             "fill": {
              "color": "#EBF0F8"
             },
             "line": {
              "color": "white"
             }
            },
            "header": {
             "fill": {
              "color": "#C8D4E3"
             },
             "line": {
              "color": "white"
             }
            },
            "type": "table"
           }
          ]
         },
         "layout": {
          "annotationdefaults": {
           "arrowcolor": "#2a3f5f",
           "arrowhead": 0,
           "arrowwidth": 1
          },
          "autotypenumbers": "strict",
          "coloraxis": {
           "colorbar": {
            "outlinewidth": 0,
            "ticks": ""
           }
          },
          "colorscale": {
           "diverging": [
            [
             0,
             "#8e0152"
            ],
            [
             0.1,
             "#c51b7d"
            ],
            [
             0.2,
             "#de77ae"
            ],
            [
             0.3,
             "#f1b6da"
            ],
            [
             0.4,
             "#fde0ef"
            ],
            [
             0.5,
             "#f7f7f7"
            ],
            [
             0.6,
             "#e6f5d0"
            ],
            [
             0.7,
             "#b8e186"
            ],
            [
             0.8,
             "#7fbc41"
            ],
            [
             0.9,
             "#4d9221"
            ],
            [
             1,
             "#276419"
            ]
           ],
           "sequential": [
            [
             0,
             "#0d0887"
            ],
            [
             0.1111111111111111,
             "#46039f"
            ],
            [
             0.2222222222222222,
             "#7201a8"
            ],
            [
             0.3333333333333333,
             "#9c179e"
            ],
            [
             0.4444444444444444,
             "#bd3786"
            ],
            [
             0.5555555555555556,
             "#d8576b"
            ],
            [
             0.6666666666666666,
             "#ed7953"
            ],
            [
             0.7777777777777778,
             "#fb9f3a"
            ],
            [
             0.8888888888888888,
             "#fdca26"
            ],
            [
             1,
             "#f0f921"
            ]
           ],
           "sequentialminus": [
            [
             0,
             "#0d0887"
            ],
            [
             0.1111111111111111,
             "#46039f"
            ],
            [
             0.2222222222222222,
             "#7201a8"
            ],
            [
             0.3333333333333333,
             "#9c179e"
            ],
            [
             0.4444444444444444,
             "#bd3786"
            ],
            [
             0.5555555555555556,
             "#d8576b"
            ],
            [
             0.6666666666666666,
             "#ed7953"
            ],
            [
             0.7777777777777778,
             "#fb9f3a"
            ],
            [
             0.8888888888888888,
             "#fdca26"
            ],
            [
             1,
             "#f0f921"
            ]
           ]
          },
          "colorway": [
           "#636efa",
           "#EF553B",
           "#00cc96",
           "#ab63fa",
           "#FFA15A",
           "#19d3f3",
           "#FF6692",
           "#B6E880",
           "#FF97FF",
           "#FECB52"
          ],
          "font": {
           "color": "#2a3f5f"
          },
          "geo": {
           "bgcolor": "white",
           "lakecolor": "white",
           "landcolor": "#E5ECF6",
           "showlakes": true,
           "showland": true,
           "subunitcolor": "white"
          },
          "hoverlabel": {
           "align": "left"
          },
          "hovermode": "closest",
          "mapbox": {
           "style": "light"
          },
          "paper_bgcolor": "white",
          "plot_bgcolor": "#E5ECF6",
          "polar": {
           "angularaxis": {
            "gridcolor": "white",
            "linecolor": "white",
            "ticks": ""
           },
           "bgcolor": "#E5ECF6",
           "radialaxis": {
            "gridcolor": "white",
            "linecolor": "white",
            "ticks": ""
           }
          },
          "scene": {
           "xaxis": {
            "backgroundcolor": "#E5ECF6",
            "gridcolor": "white",
            "gridwidth": 2,
            "linecolor": "white",
            "showbackground": true,
            "ticks": "",
            "zerolinecolor": "white"
           },
           "yaxis": {
            "backgroundcolor": "#E5ECF6",
            "gridcolor": "white",
            "gridwidth": 2,
            "linecolor": "white",
            "showbackground": true,
            "ticks": "",
            "zerolinecolor": "white"
           },
           "zaxis": {
            "backgroundcolor": "#E5ECF6",
            "gridcolor": "white",
            "gridwidth": 2,
            "linecolor": "white",
            "showbackground": true,
            "ticks": "",
            "zerolinecolor": "white"
           }
          },
          "shapedefaults": {
           "line": {
            "color": "#2a3f5f"
           }
          },
          "ternary": {
           "aaxis": {
            "gridcolor": "white",
            "linecolor": "white",
            "ticks": ""
           },
           "baxis": {
            "gridcolor": "white",
            "linecolor": "white",
            "ticks": ""
           },
           "bgcolor": "#E5ECF6",
           "caxis": {
            "gridcolor": "white",
            "linecolor": "white",
            "ticks": ""
           }
          },
          "title": {
           "x": 0.05
          },
          "xaxis": {
           "automargin": true,
           "gridcolor": "white",
           "linecolor": "white",
           "ticks": "",
           "title": {
            "standoff": 15
           },
           "zerolinecolor": "white",
           "zerolinewidth": 2
          },
          "yaxis": {
           "automargin": true,
           "gridcolor": "white",
           "linecolor": "white",
           "ticks": "",
           "title": {
            "standoff": 15
           },
           "zerolinecolor": "white",
           "zerolinewidth": 2
          }
         }
        },
        "xaxis": {
         "anchor": "y",
         "domain": [
          0,
          1
         ]
        },
        "yaxis": {
         "anchor": "x",
         "autorange": "reversed",
         "domain": [
          0,
          1
         ]
        }
       }
      },
      "text/html": [
       "<div>                            <div id=\"41fb5cc0-5080-48fc-8307-98480722df56\" class=\"plotly-graph-div\" style=\"height:525px; width:100%;\"></div>            <script type=\"text/javascript\">                require([\"plotly\"], function(Plotly) {                    window.PLOTLYENV=window.PLOTLYENV || {};                                    if (document.getElementById(\"41fb5cc0-5080-48fc-8307-98480722df56\")) {                    Plotly.newPlot(                        \"41fb5cc0-5080-48fc-8307-98480722df56\",                        [{\"coloraxis\":\"coloraxis\",\"name\":\"0\",\"x\":[\"latitude\",\"longitude\",\"year\",\"month\",\"fire_cnt\",\"fire\",\"fire_cnt_before\",\"fire_before\",\"fire_cnt_last_year\",\"fire_last_year\",\"fire_cnt_last_year_same_month\",\"fire_last_year_same_month\",\"latitude_rounded\",\"longitude_rounded\",\"temperature_min\",\"temperature_max\",\"temperature_avg\"],\"y\":[\"latitude\",\"longitude\",\"year\",\"month\",\"fire_cnt\",\"fire\",\"fire_cnt_before\",\"fire_before\",\"fire_cnt_last_year\",\"fire_last_year\",\"fire_cnt_last_year_same_month\",\"fire_last_year_same_month\",\"latitude_rounded\",\"longitude_rounded\",\"temperature_min\",\"temperature_max\",\"temperature_avg\"],\"z\":[[1.0,2.699480487872279e-14,-7.531323455915657e-12,1.4088600995787835e-14,-0.051506803172676065,-0.06964834466983529,-0.11954656923998361,-0.17146222028424413,-0.16182913523566825,-0.1823796490632544,-0.059598787256993066,-0.07132058073987069,0.9861502720116601,1.471574080684128e-13,-0.2221057492015504,-0.21541276826481753,-0.22020619666840743],[2.699480487872279e-14,1.0,-6.359284938596921e-14,1.9220896016305554e-16,0.03256804312165939,0.05093387743630302,0.06576735543662049,0.12227373560536735,0.11869899733194945,0.13743033160123982,0.0437147259008931,0.05374289900993617,2.283124651946448e-14,0.9986278294540868,-0.15229150655257903,-0.13993134182600311,-0.1489608710577466],[-7.531323455915657e-12,-6.359284938596921e-14,1.0,3.511383159849078e-17,-0.0009215958923392615,-0.004689402375795634,0.05952537264450067,0.07551939316644384,0.004628803095670914,0.009685532941973954,0.0017047057104498874,0.0037875817710175965,-7.623825200587946e-12,-6.354377969429747e-14,-0.07247617526096027,-0.06872744846978311,-0.0723074532939598],[1.4088600995787835e-14,1.9220896016305554e-16,3.511383159849078e-17,1.0,0.018810511014938077,0.03000374627271004,-1.0239140391483815e-16,-4.571068688698985e-16,-7.520314168143144e-16,-1.1037872195939128e-15,0.023123131429011103,0.03216558782641682,1.4785299998008407e-14,1.9376600947014241e-16,0.2598295425308446,0.24696126141104963,0.26202154215706314],[-0.051506803172676065,0.03256804312165939,-0.0009215958923392615,0.018810511014938077,1.0,0.5805701096746689,0.31952546949297866,0.2304760748298891,0.16806639888880295,0.13511383936175858,0.3561480260481729,0.21260997670920442,-0.050463850266598026,0.032780289076576104,0.08979889358999295,0.0894901922542212,0.08993040486860643],[-0.06964834466983529,0.05093387743630302,-0.004689402375795634,0.03000374627271004,0.5805701096746689,1.0,0.21511142941206385,0.3493096664086155,0.18534534820245502,0.17929331555851558,0.28168048506433907,0.2581190249181417,-0.06915234383871559,0.05114182192860324,0.10243235389507602,0.10234356538112425,0.10271510207246033],[-0.11954656923998361,0.06576735543662049,0.05952537264450067,-1.0239140391483815e-16,0.31952546949297866,0.21511142941206385,1.0,0.6280933881801185,0.32571438578688866,0.273217870758526,0.1199548051516652,0.10684337485620585,-0.11774277602094196,0.06619295263562949,0.0467960051034276,0.047355909994749715,0.047134925345676],[-0.17146222028424413,0.12227373560536735,0.07551939316644384,-4.571068688698985e-16,0.2304760748298891,0.3493096664086155,0.6280933881801185,1.0,0.4171838385511151,0.40991704992905176,0.15364137492704988,0.16030035262309625,-0.1706607193277679,0.12276464836728947,0.060105301846650035,0.06084761169996734,0.060477118685667595],[-0.16182913523566825,0.11869899733194945,0.004628803095670914,-7.520314168143144e-16,0.16806639888880295,0.18534534820245502,0.32571438578688866,0.4171838385511151,1.0,0.8025313470966676,0.3682821833670855,0.313834367106568,-0.15812267635231175,0.1194645964750476,0.04639081259729199,0.0491113829127338,0.04802017784797629],[-0.1823796490632544,0.13743033160123982,0.009685532941973954,-1.1037872195939128e-15,0.13511383936175858,0.17929331555851558,0.273217870758526,0.40991704992905176,0.8025313470966676,1.0,0.2955579967292782,0.3910555871019472,-0.1809710762002244,0.13799288343999622,0.05043459074222856,0.05359956411556627,0.05237630225619485],[-0.059598787256993066,0.0437147259008931,0.0017047057104498874,0.023123131429011103,0.3561480260481729,0.28168048506433907,0.1199548051516652,0.15364137492704988,0.3682821833670855,0.2955579967292782,1.0,0.6584492418797542,-0.05823376448687192,0.04399668242489732,0.08197850232535565,0.08131877304288333,0.08207761350341133],[-0.07132058073987069,0.05374289900993617,0.0037875817710175965,0.03216558782641682,0.21260997670920442,0.2581190249181417,0.10684337485620585,0.16030035262309625,0.313834367106568,0.3910555871019472,0.6584492418797542,1.0,-0.07076975045194397,0.05396288804951825,0.09340191318448512,0.09304769165667091,0.09371831118100933],[0.9861502720116601,2.283124651946448e-14,-7.623825200587946e-12,1.4785299998008407e-14,-0.050463850266598026,-0.06915234383871559,-0.11774277602094196,-0.1706607193277679,-0.15812267635231175,-0.1809710762002244,-0.05823376448687192,-0.07076975045194397,1.0,1.3870258098549323e-13,-0.22532433844147762,-0.2185343678657739,-0.223397259023659],[1.471574080684128e-13,0.9986278294540868,-6.354377969429747e-14,1.9376600947014241e-16,0.032780289076576104,0.05114182192860324,0.06619295263562949,0.12276464836728947,0.1194645964750476,0.13799288343999622,0.04399668242489732,0.05396288804951825,1.3870258098549323e-13,1.0,-0.15250177549056146,-0.14012454508009053,-0.1491665413861116],[-0.2221057492015504,-0.15229150655257903,-0.07247617526096027,0.2598295425308446,0.08979889358999295,0.10243235389507602,0.0467960051034276,0.060105301846650035,0.04639081259729199,0.05043459074222856,0.08197850232535565,0.09340191318448512,-0.22532433844147762,-0.15250177549056146,1.0,0.9946889930509635,0.9984895130933364],[-0.21541276826481753,-0.13993134182600311,-0.06872744846978311,0.24696126141104963,0.0894901922542212,0.10234356538112425,0.047355909994749715,0.06084761169996734,0.0491113829127338,0.05359956411556627,0.08131877304288333,0.09304769165667091,-0.2185343678657739,-0.14012454508009053,0.9946889930509635,1.0,0.9974387751310917],[-0.22020619666840743,-0.1489608710577466,-0.0723074532939598,0.26202154215706314,0.08993040486860643,0.10271510207246033,0.047134925345676,0.060477118685667595,0.04802017784797629,0.05237630225619485,0.08207761350341133,0.09371831118100933,-0.223397259023659,-0.1491665413861116,0.9984895130933364,0.9974387751310917,1.0]],\"type\":\"heatmap\",\"xaxis\":\"x\",\"yaxis\":\"y\",\"hovertemplate\":\"x: %{x}<br>y: %{y}<br>color: %{z}<extra></extra>\"}],                        {\"template\":{\"data\":{\"bar\":[{\"error_x\":{\"color\":\"#2a3f5f\"},\"error_y\":{\"color\":\"#2a3f5f\"},\"marker\":{\"line\":{\"color\":\"#E5ECF6\",\"width\":0.5},\"pattern\":{\"fillmode\":\"overlay\",\"size\":10,\"solidity\":0.2}},\"type\":\"bar\"}],\"barpolar\":[{\"marker\":{\"line\":{\"color\":\"#E5ECF6\",\"width\":0.5},\"pattern\":{\"fillmode\":\"overlay\",\"size\":10,\"solidity\":0.2}},\"type\":\"barpolar\"}],\"carpet\":[{\"aaxis\":{\"endlinecolor\":\"#2a3f5f\",\"gridcolor\":\"white\",\"linecolor\":\"white\",\"minorgridcolor\":\"white\",\"startlinecolor\":\"#2a3f5f\"},\"baxis\":{\"endlinecolor\":\"#2a3f5f\",\"gridcolor\":\"white\",\"linecolor\":\"white\",\"minorgridcolor\":\"white\",\"startlinecolor\":\"#2a3f5f\"},\"type\":\"carpet\"}],\"choropleth\":[{\"colorbar\":{\"outlinewidth\":0,\"ticks\":\"\"},\"type\":\"choropleth\"}],\"contour\":[{\"colorbar\":{\"outlinewidth\":0,\"ticks\":\"\"},\"colorscale\":[[0.0,\"#0d0887\"],[0.1111111111111111,\"#46039f\"],[0.2222222222222222,\"#7201a8\"],[0.3333333333333333,\"#9c179e\"],[0.4444444444444444,\"#bd3786\"],[0.5555555555555556,\"#d8576b\"],[0.6666666666666666,\"#ed7953\"],[0.7777777777777778,\"#fb9f3a\"],[0.8888888888888888,\"#fdca26\"],[1.0,\"#f0f921\"]],\"type\":\"contour\"}],\"contourcarpet\":[{\"colorbar\":{\"outlinewidth\":0,\"ticks\":\"\"},\"type\":\"contourcarpet\"}],\"heatmap\":[{\"colorbar\":{\"outlinewidth\":0,\"ticks\":\"\"},\"colorscale\":[[0.0,\"#0d0887\"],[0.1111111111111111,\"#46039f\"],[0.2222222222222222,\"#7201a8\"],[0.3333333333333333,\"#9c179e\"],[0.4444444444444444,\"#bd3786\"],[0.5555555555555556,\"#d8576b\"],[0.6666666666666666,\"#ed7953\"],[0.7777777777777778,\"#fb9f3a\"],[0.8888888888888888,\"#fdca26\"],[1.0,\"#f0f921\"]],\"type\":\"heatmap\"}],\"heatmapgl\":[{\"colorbar\":{\"outlinewidth\":0,\"ticks\":\"\"},\"colorscale\":[[0.0,\"#0d0887\"],[0.1111111111111111,\"#46039f\"],[0.2222222222222222,\"#7201a8\"],[0.3333333333333333,\"#9c179e\"],[0.4444444444444444,\"#bd3786\"],[0.5555555555555556,\"#d8576b\"],[0.6666666666666666,\"#ed7953\"],[0.7777777777777778,\"#fb9f3a\"],[0.8888888888888888,\"#fdca26\"],[1.0,\"#f0f921\"]],\"type\":\"heatmapgl\"}],\"histogram\":[{\"marker\":{\"pattern\":{\"fillmode\":\"overlay\",\"size\":10,\"solidity\":0.2}},\"type\":\"histogram\"}],\"histogram2d\":[{\"colorbar\":{\"outlinewidth\":0,\"ticks\":\"\"},\"colorscale\":[[0.0,\"#0d0887\"],[0.1111111111111111,\"#46039f\"],[0.2222222222222222,\"#7201a8\"],[0.3333333333333333,\"#9c179e\"],[0.4444444444444444,\"#bd3786\"],[0.5555555555555556,\"#d8576b\"],[0.6666666666666666,\"#ed7953\"],[0.7777777777777778,\"#fb9f3a\"],[0.8888888888888888,\"#fdca26\"],[1.0,\"#f0f921\"]],\"type\":\"histogram2d\"}],\"histogram2dcontour\":[{\"colorbar\":{\"outlinewidth\":0,\"ticks\":\"\"},\"colorscale\":[[0.0,\"#0d0887\"],[0.1111111111111111,\"#46039f\"],[0.2222222222222222,\"#7201a8\"],[0.3333333333333333,\"#9c179e\"],[0.4444444444444444,\"#bd3786\"],[0.5555555555555556,\"#d8576b\"],[0.6666666666666666,\"#ed7953\"],[0.7777777777777778,\"#fb9f3a\"],[0.8888888888888888,\"#fdca26\"],[1.0,\"#f0f921\"]],\"type\":\"histogram2dcontour\"}],\"mesh3d\":[{\"colorbar\":{\"outlinewidth\":0,\"ticks\":\"\"},\"type\":\"mesh3d\"}],\"parcoords\":[{\"line\":{\"colorbar\":{\"outlinewidth\":0,\"ticks\":\"\"}},\"type\":\"parcoords\"}],\"pie\":[{\"automargin\":true,\"type\":\"pie\"}],\"scatter\":[{\"marker\":{\"colorbar\":{\"outlinewidth\":0,\"ticks\":\"\"}},\"type\":\"scatter\"}],\"scatter3d\":[{\"line\":{\"colorbar\":{\"outlinewidth\":0,\"ticks\":\"\"}},\"marker\":{\"colorbar\":{\"outlinewidth\":0,\"ticks\":\"\"}},\"type\":\"scatter3d\"}],\"scattercarpet\":[{\"marker\":{\"colorbar\":{\"outlinewidth\":0,\"ticks\":\"\"}},\"type\":\"scattercarpet\"}],\"scattergeo\":[{\"marker\":{\"colorbar\":{\"outlinewidth\":0,\"ticks\":\"\"}},\"type\":\"scattergeo\"}],\"scattergl\":[{\"marker\":{\"colorbar\":{\"outlinewidth\":0,\"ticks\":\"\"}},\"type\":\"scattergl\"}],\"scattermapbox\":[{\"marker\":{\"colorbar\":{\"outlinewidth\":0,\"ticks\":\"\"}},\"type\":\"scattermapbox\"}],\"scatterpolar\":[{\"marker\":{\"colorbar\":{\"outlinewidth\":0,\"ticks\":\"\"}},\"type\":\"scatterpolar\"}],\"scatterpolargl\":[{\"marker\":{\"colorbar\":{\"outlinewidth\":0,\"ticks\":\"\"}},\"type\":\"scatterpolargl\"}],\"scatterternary\":[{\"marker\":{\"colorbar\":{\"outlinewidth\":0,\"ticks\":\"\"}},\"type\":\"scatterternary\"}],\"surface\":[{\"colorbar\":{\"outlinewidth\":0,\"ticks\":\"\"},\"colorscale\":[[0.0,\"#0d0887\"],[0.1111111111111111,\"#46039f\"],[0.2222222222222222,\"#7201a8\"],[0.3333333333333333,\"#9c179e\"],[0.4444444444444444,\"#bd3786\"],[0.5555555555555556,\"#d8576b\"],[0.6666666666666666,\"#ed7953\"],[0.7777777777777778,\"#fb9f3a\"],[0.8888888888888888,\"#fdca26\"],[1.0,\"#f0f921\"]],\"type\":\"surface\"}],\"table\":[{\"cells\":{\"fill\":{\"color\":\"#EBF0F8\"},\"line\":{\"color\":\"white\"}},\"header\":{\"fill\":{\"color\":\"#C8D4E3\"},\"line\":{\"color\":\"white\"}},\"type\":\"table\"}]},\"layout\":{\"annotationdefaults\":{\"arrowcolor\":\"#2a3f5f\",\"arrowhead\":0,\"arrowwidth\":1},\"autotypenumbers\":\"strict\",\"coloraxis\":{\"colorbar\":{\"outlinewidth\":0,\"ticks\":\"\"}},\"colorscale\":{\"diverging\":[[0,\"#8e0152\"],[0.1,\"#c51b7d\"],[0.2,\"#de77ae\"],[0.3,\"#f1b6da\"],[0.4,\"#fde0ef\"],[0.5,\"#f7f7f7\"],[0.6,\"#e6f5d0\"],[0.7,\"#b8e186\"],[0.8,\"#7fbc41\"],[0.9,\"#4d9221\"],[1,\"#276419\"]],\"sequential\":[[0.0,\"#0d0887\"],[0.1111111111111111,\"#46039f\"],[0.2222222222222222,\"#7201a8\"],[0.3333333333333333,\"#9c179e\"],[0.4444444444444444,\"#bd3786\"],[0.5555555555555556,\"#d8576b\"],[0.6666666666666666,\"#ed7953\"],[0.7777777777777778,\"#fb9f3a\"],[0.8888888888888888,\"#fdca26\"],[1.0,\"#f0f921\"]],\"sequentialminus\":[[0.0,\"#0d0887\"],[0.1111111111111111,\"#46039f\"],[0.2222222222222222,\"#7201a8\"],[0.3333333333333333,\"#9c179e\"],[0.4444444444444444,\"#bd3786\"],[0.5555555555555556,\"#d8576b\"],[0.6666666666666666,\"#ed7953\"],[0.7777777777777778,\"#fb9f3a\"],[0.8888888888888888,\"#fdca26\"],[1.0,\"#f0f921\"]]},\"colorway\":[\"#636efa\",\"#EF553B\",\"#00cc96\",\"#ab63fa\",\"#FFA15A\",\"#19d3f3\",\"#FF6692\",\"#B6E880\",\"#FF97FF\",\"#FECB52\"],\"font\":{\"color\":\"#2a3f5f\"},\"geo\":{\"bgcolor\":\"white\",\"lakecolor\":\"white\",\"landcolor\":\"#E5ECF6\",\"showlakes\":true,\"showland\":true,\"subunitcolor\":\"white\"},\"hoverlabel\":{\"align\":\"left\"},\"hovermode\":\"closest\",\"mapbox\":{\"style\":\"light\"},\"paper_bgcolor\":\"white\",\"plot_bgcolor\":\"#E5ECF6\",\"polar\":{\"angularaxis\":{\"gridcolor\":\"white\",\"linecolor\":\"white\",\"ticks\":\"\"},\"bgcolor\":\"#E5ECF6\",\"radialaxis\":{\"gridcolor\":\"white\",\"linecolor\":\"white\",\"ticks\":\"\"}},\"scene\":{\"xaxis\":{\"backgroundcolor\":\"#E5ECF6\",\"gridcolor\":\"white\",\"gridwidth\":2,\"linecolor\":\"white\",\"showbackground\":true,\"ticks\":\"\",\"zerolinecolor\":\"white\"},\"yaxis\":{\"backgroundcolor\":\"#E5ECF6\",\"gridcolor\":\"white\",\"gridwidth\":2,\"linecolor\":\"white\",\"showbackground\":true,\"ticks\":\"\",\"zerolinecolor\":\"white\"},\"zaxis\":{\"backgroundcolor\":\"#E5ECF6\",\"gridcolor\":\"white\",\"gridwidth\":2,\"linecolor\":\"white\",\"showbackground\":true,\"ticks\":\"\",\"zerolinecolor\":\"white\"}},\"shapedefaults\":{\"line\":{\"color\":\"#2a3f5f\"}},\"ternary\":{\"aaxis\":{\"gridcolor\":\"white\",\"linecolor\":\"white\",\"ticks\":\"\"},\"baxis\":{\"gridcolor\":\"white\",\"linecolor\":\"white\",\"ticks\":\"\"},\"bgcolor\":\"#E5ECF6\",\"caxis\":{\"gridcolor\":\"white\",\"linecolor\":\"white\",\"ticks\":\"\"}},\"title\":{\"x\":0.05},\"xaxis\":{\"automargin\":true,\"gridcolor\":\"white\",\"linecolor\":\"white\",\"ticks\":\"\",\"title\":{\"standoff\":15},\"zerolinecolor\":\"white\",\"zerolinewidth\":2},\"yaxis\":{\"automargin\":true,\"gridcolor\":\"white\",\"linecolor\":\"white\",\"ticks\":\"\",\"title\":{\"standoff\":15},\"zerolinecolor\":\"white\",\"zerolinewidth\":2}}},\"xaxis\":{\"anchor\":\"y\",\"domain\":[0.0,1.0]},\"yaxis\":{\"anchor\":\"x\",\"domain\":[0.0,1.0],\"autorange\":\"reversed\"},\"coloraxis\":{\"colorscale\":[[0.0,\"rgb(103,0,31)\"],[0.1,\"rgb(178,24,43)\"],[0.2,\"rgb(214,96,77)\"],[0.3,\"rgb(244,165,130)\"],[0.4,\"rgb(253,219,199)\"],[0.5,\"rgb(247,247,247)\"],[0.6,\"rgb(209,229,240)\"],[0.7,\"rgb(146,197,222)\"],[0.8,\"rgb(67,147,195)\"],[0.9,\"rgb(33,102,172)\"],[1.0,\"rgb(5,48,97)\"]]},\"margin\":{\"t\":60}},                        {\"responsive\": true}                    ).then(function(){\n",
       "                            \n",
       "var gd = document.getElementById('41fb5cc0-5080-48fc-8307-98480722df56');\n",
       "var x = new MutationObserver(function (mutations, observer) {{\n",
       "        var display = window.getComputedStyle(gd).display;\n",
       "        if (!display || display === 'none') {{\n",
       "            console.log([gd, 'removed!']);\n",
       "            Plotly.purge(gd);\n",
       "            observer.disconnect();\n",
       "        }}\n",
       "}});\n",
       "\n",
       "// Listen for the removal of the full notebook cells\n",
       "var notebookContainer = gd.closest('#notebook-container');\n",
       "if (notebookContainer) {{\n",
       "    x.observe(notebookContainer, {childList: true});\n",
       "}}\n",
       "\n",
       "// Listen for the clearing of the current output cell\n",
       "var outputEl = gd.closest('.output');\n",
       "if (outputEl) {{\n",
       "    x.observe(outputEl, {childList: true});\n",
       "}}\n",
       "\n",
       "                        })                };                });            </script>        </div>"
      ]
     },
     "metadata": {},
     "output_type": "display_data"
    }
   ],
   "source": [
    "corr = full_df.corr()\n",
    "fig = px.imshow(corr, aspect=\"auto\", color_continuous_scale=px.colors.sequential.RdBu)\n",
    "fig.show()"
   ]
  },
  {
   "cell_type": "code",
   "execution_count": 49,
   "id": "7a4e05ec",
   "metadata": {},
   "outputs": [
    {
     "data": {
      "application/vnd.plotly.v1+json": {
       "config": {
        "plotlyServerURL": "https://plot.ly"
       },
       "data": [
        {
         "coloraxis": "coloraxis",
         "hovertemplate": "x: %{x}<br>y: %{y}<br>color: %{z}<extra></extra>",
         "name": "0",
         "type": "heatmap",
         "x": [
          "fire"
         ],
         "xaxis": "x",
         "y": [
          "latitude",
          "longitude",
          "year",
          "month",
          "fire_cnt",
          "fire_cnt_before",
          "fire_before",
          "fire_cnt_last_year",
          "fire_last_year",
          "fire_cnt_last_year_same_month",
          "fire_last_year_same_month",
          "latitude_rounded",
          "longitude_rounded",
          "temperature_min",
          "temperature_max",
          "temperature_avg"
         ],
         "yaxis": "y",
         "z": [
          [
           -0.06964834466983529
          ],
          [
           0.05093387743630302
          ],
          [
           -0.004689402375795634
          ],
          [
           0.03000374627271004
          ],
          [
           0.5805701096746689
          ],
          [
           0.21511142941206385
          ],
          [
           0.3493096664086155
          ],
          [
           0.18534534820245502
          ],
          [
           0.17929331555851558
          ],
          [
           0.28168048506433907
          ],
          [
           0.2581190249181417
          ],
          [
           -0.06915234383871559
          ],
          [
           0.05114182192860324
          ],
          [
           0.10243235389507602
          ],
          [
           0.10234356538112425
          ],
          [
           0.10271510207246033
          ]
         ]
        }
       ],
       "layout": {
        "coloraxis": {
         "colorscale": [
          [
           0,
           "rgb(103,0,31)"
          ],
          [
           0.1,
           "rgb(178,24,43)"
          ],
          [
           0.2,
           "rgb(214,96,77)"
          ],
          [
           0.3,
           "rgb(244,165,130)"
          ],
          [
           0.4,
           "rgb(253,219,199)"
          ],
          [
           0.5,
           "rgb(247,247,247)"
          ],
          [
           0.6,
           "rgb(209,229,240)"
          ],
          [
           0.7,
           "rgb(146,197,222)"
          ],
          [
           0.8,
           "rgb(67,147,195)"
          ],
          [
           0.9,
           "rgb(33,102,172)"
          ],
          [
           1,
           "rgb(5,48,97)"
          ]
         ]
        },
        "margin": {
         "t": 60
        },
        "template": {
         "data": {
          "bar": [
           {
            "error_x": {
             "color": "#2a3f5f"
            },
            "error_y": {
             "color": "#2a3f5f"
            },
            "marker": {
             "line": {
              "color": "#E5ECF6",
              "width": 0.5
             },
             "pattern": {
              "fillmode": "overlay",
              "size": 10,
              "solidity": 0.2
             }
            },
            "type": "bar"
           }
          ],
          "barpolar": [
           {
            "marker": {
             "line": {
              "color": "#E5ECF6",
              "width": 0.5
             },
             "pattern": {
              "fillmode": "overlay",
              "size": 10,
              "solidity": 0.2
             }
            },
            "type": "barpolar"
           }
          ],
          "carpet": [
           {
            "aaxis": {
             "endlinecolor": "#2a3f5f",
             "gridcolor": "white",
             "linecolor": "white",
             "minorgridcolor": "white",
             "startlinecolor": "#2a3f5f"
            },
            "baxis": {
             "endlinecolor": "#2a3f5f",
             "gridcolor": "white",
             "linecolor": "white",
             "minorgridcolor": "white",
             "startlinecolor": "#2a3f5f"
            },
            "type": "carpet"
           }
          ],
          "choropleth": [
           {
            "colorbar": {
             "outlinewidth": 0,
             "ticks": ""
            },
            "type": "choropleth"
           }
          ],
          "contour": [
           {
            "colorbar": {
             "outlinewidth": 0,
             "ticks": ""
            },
            "colorscale": [
             [
              0,
              "#0d0887"
             ],
             [
              0.1111111111111111,
              "#46039f"
             ],
             [
              0.2222222222222222,
              "#7201a8"
             ],
             [
              0.3333333333333333,
              "#9c179e"
             ],
             [
              0.4444444444444444,
              "#bd3786"
             ],
             [
              0.5555555555555556,
              "#d8576b"
             ],
             [
              0.6666666666666666,
              "#ed7953"
             ],
             [
              0.7777777777777778,
              "#fb9f3a"
             ],
             [
              0.8888888888888888,
              "#fdca26"
             ],
             [
              1,
              "#f0f921"
             ]
            ],
            "type": "contour"
           }
          ],
          "contourcarpet": [
           {
            "colorbar": {
             "outlinewidth": 0,
             "ticks": ""
            },
            "type": "contourcarpet"
           }
          ],
          "heatmap": [
           {
            "colorbar": {
             "outlinewidth": 0,
             "ticks": ""
            },
            "colorscale": [
             [
              0,
              "#0d0887"
             ],
             [
              0.1111111111111111,
              "#46039f"
             ],
             [
              0.2222222222222222,
              "#7201a8"
             ],
             [
              0.3333333333333333,
              "#9c179e"
             ],
             [
              0.4444444444444444,
              "#bd3786"
             ],
             [
              0.5555555555555556,
              "#d8576b"
             ],
             [
              0.6666666666666666,
              "#ed7953"
             ],
             [
              0.7777777777777778,
              "#fb9f3a"
             ],
             [
              0.8888888888888888,
              "#fdca26"
             ],
             [
              1,
              "#f0f921"
             ]
            ],
            "type": "heatmap"
           }
          ],
          "heatmapgl": [
           {
            "colorbar": {
             "outlinewidth": 0,
             "ticks": ""
            },
            "colorscale": [
             [
              0,
              "#0d0887"
             ],
             [
              0.1111111111111111,
              "#46039f"
             ],
             [
              0.2222222222222222,
              "#7201a8"
             ],
             [
              0.3333333333333333,
              "#9c179e"
             ],
             [
              0.4444444444444444,
              "#bd3786"
             ],
             [
              0.5555555555555556,
              "#d8576b"
             ],
             [
              0.6666666666666666,
              "#ed7953"
             ],
             [
              0.7777777777777778,
              "#fb9f3a"
             ],
             [
              0.8888888888888888,
              "#fdca26"
             ],
             [
              1,
              "#f0f921"
             ]
            ],
            "type": "heatmapgl"
           }
          ],
          "histogram": [
           {
            "marker": {
             "pattern": {
              "fillmode": "overlay",
              "size": 10,
              "solidity": 0.2
             }
            },
            "type": "histogram"
           }
          ],
          "histogram2d": [
           {
            "colorbar": {
             "outlinewidth": 0,
             "ticks": ""
            },
            "colorscale": [
             [
              0,
              "#0d0887"
             ],
             [
              0.1111111111111111,
              "#46039f"
             ],
             [
              0.2222222222222222,
              "#7201a8"
             ],
             [
              0.3333333333333333,
              "#9c179e"
             ],
             [
              0.4444444444444444,
              "#bd3786"
             ],
             [
              0.5555555555555556,
              "#d8576b"
             ],
             [
              0.6666666666666666,
              "#ed7953"
             ],
             [
              0.7777777777777778,
              "#fb9f3a"
             ],
             [
              0.8888888888888888,
              "#fdca26"
             ],
             [
              1,
              "#f0f921"
             ]
            ],
            "type": "histogram2d"
           }
          ],
          "histogram2dcontour": [
           {
            "colorbar": {
             "outlinewidth": 0,
             "ticks": ""
            },
            "colorscale": [
             [
              0,
              "#0d0887"
             ],
             [
              0.1111111111111111,
              "#46039f"
             ],
             [
              0.2222222222222222,
              "#7201a8"
             ],
             [
              0.3333333333333333,
              "#9c179e"
             ],
             [
              0.4444444444444444,
              "#bd3786"
             ],
             [
              0.5555555555555556,
              "#d8576b"
             ],
             [
              0.6666666666666666,
              "#ed7953"
             ],
             [
              0.7777777777777778,
              "#fb9f3a"
             ],
             [
              0.8888888888888888,
              "#fdca26"
             ],
             [
              1,
              "#f0f921"
             ]
            ],
            "type": "histogram2dcontour"
           }
          ],
          "mesh3d": [
           {
            "colorbar": {
             "outlinewidth": 0,
             "ticks": ""
            },
            "type": "mesh3d"
           }
          ],
          "parcoords": [
           {
            "line": {
             "colorbar": {
              "outlinewidth": 0,
              "ticks": ""
             }
            },
            "type": "parcoords"
           }
          ],
          "pie": [
           {
            "automargin": true,
            "type": "pie"
           }
          ],
          "scatter": [
           {
            "marker": {
             "colorbar": {
              "outlinewidth": 0,
              "ticks": ""
             }
            },
            "type": "scatter"
           }
          ],
          "scatter3d": [
           {
            "line": {
             "colorbar": {
              "outlinewidth": 0,
              "ticks": ""
             }
            },
            "marker": {
             "colorbar": {
              "outlinewidth": 0,
              "ticks": ""
             }
            },
            "type": "scatter3d"
           }
          ],
          "scattercarpet": [
           {
            "marker": {
             "colorbar": {
              "outlinewidth": 0,
              "ticks": ""
             }
            },
            "type": "scattercarpet"
           }
          ],
          "scattergeo": [
           {
            "marker": {
             "colorbar": {
              "outlinewidth": 0,
              "ticks": ""
             }
            },
            "type": "scattergeo"
           }
          ],
          "scattergl": [
           {
            "marker": {
             "colorbar": {
              "outlinewidth": 0,
              "ticks": ""
             }
            },
            "type": "scattergl"
           }
          ],
          "scattermapbox": [
           {
            "marker": {
             "colorbar": {
              "outlinewidth": 0,
              "ticks": ""
             }
            },
            "type": "scattermapbox"
           }
          ],
          "scatterpolar": [
           {
            "marker": {
             "colorbar": {
              "outlinewidth": 0,
              "ticks": ""
             }
            },
            "type": "scatterpolar"
           }
          ],
          "scatterpolargl": [
           {
            "marker": {
             "colorbar": {
              "outlinewidth": 0,
              "ticks": ""
             }
            },
            "type": "scatterpolargl"
           }
          ],
          "scatterternary": [
           {
            "marker": {
             "colorbar": {
              "outlinewidth": 0,
              "ticks": ""
             }
            },
            "type": "scatterternary"
           }
          ],
          "surface": [
           {
            "colorbar": {
             "outlinewidth": 0,
             "ticks": ""
            },
            "colorscale": [
             [
              0,
              "#0d0887"
             ],
             [
              0.1111111111111111,
              "#46039f"
             ],
             [
              0.2222222222222222,
              "#7201a8"
             ],
             [
              0.3333333333333333,
              "#9c179e"
             ],
             [
              0.4444444444444444,
              "#bd3786"
             ],
             [
              0.5555555555555556,
              "#d8576b"
             ],
             [
              0.6666666666666666,
              "#ed7953"
             ],
             [
              0.7777777777777778,
              "#fb9f3a"
             ],
             [
              0.8888888888888888,
              "#fdca26"
             ],
             [
              1,
              "#f0f921"
             ]
            ],
            "type": "surface"
           }
          ],
          "table": [
           {
            "cells": {
             "fill": {
              "color": "#EBF0F8"
             },
             "line": {
              "color": "white"
             }
            },
            "header": {
             "fill": {
              "color": "#C8D4E3"
             },
             "line": {
              "color": "white"
             }
            },
            "type": "table"
           }
          ]
         },
         "layout": {
          "annotationdefaults": {
           "arrowcolor": "#2a3f5f",
           "arrowhead": 0,
           "arrowwidth": 1
          },
          "autotypenumbers": "strict",
          "coloraxis": {
           "colorbar": {
            "outlinewidth": 0,
            "ticks": ""
           }
          },
          "colorscale": {
           "diverging": [
            [
             0,
             "#8e0152"
            ],
            [
             0.1,
             "#c51b7d"
            ],
            [
             0.2,
             "#de77ae"
            ],
            [
             0.3,
             "#f1b6da"
            ],
            [
             0.4,
             "#fde0ef"
            ],
            [
             0.5,
             "#f7f7f7"
            ],
            [
             0.6,
             "#e6f5d0"
            ],
            [
             0.7,
             "#b8e186"
            ],
            [
             0.8,
             "#7fbc41"
            ],
            [
             0.9,
             "#4d9221"
            ],
            [
             1,
             "#276419"
            ]
           ],
           "sequential": [
            [
             0,
             "#0d0887"
            ],
            [
             0.1111111111111111,
             "#46039f"
            ],
            [
             0.2222222222222222,
             "#7201a8"
            ],
            [
             0.3333333333333333,
             "#9c179e"
            ],
            [
             0.4444444444444444,
             "#bd3786"
            ],
            [
             0.5555555555555556,
             "#d8576b"
            ],
            [
             0.6666666666666666,
             "#ed7953"
            ],
            [
             0.7777777777777778,
             "#fb9f3a"
            ],
            [
             0.8888888888888888,
             "#fdca26"
            ],
            [
             1,
             "#f0f921"
            ]
           ],
           "sequentialminus": [
            [
             0,
             "#0d0887"
            ],
            [
             0.1111111111111111,
             "#46039f"
            ],
            [
             0.2222222222222222,
             "#7201a8"
            ],
            [
             0.3333333333333333,
             "#9c179e"
            ],
            [
             0.4444444444444444,
             "#bd3786"
            ],
            [
             0.5555555555555556,
             "#d8576b"
            ],
            [
             0.6666666666666666,
             "#ed7953"
            ],
            [
             0.7777777777777778,
             "#fb9f3a"
            ],
            [
             0.8888888888888888,
             "#fdca26"
            ],
            [
             1,
             "#f0f921"
            ]
           ]
          },
          "colorway": [
           "#636efa",
           "#EF553B",
           "#00cc96",
           "#ab63fa",
           "#FFA15A",
           "#19d3f3",
           "#FF6692",
           "#B6E880",
           "#FF97FF",
           "#FECB52"
          ],
          "font": {
           "color": "#2a3f5f"
          },
          "geo": {
           "bgcolor": "white",
           "lakecolor": "white",
           "landcolor": "#E5ECF6",
           "showlakes": true,
           "showland": true,
           "subunitcolor": "white"
          },
          "hoverlabel": {
           "align": "left"
          },
          "hovermode": "closest",
          "mapbox": {
           "style": "light"
          },
          "paper_bgcolor": "white",
          "plot_bgcolor": "#E5ECF6",
          "polar": {
           "angularaxis": {
            "gridcolor": "white",
            "linecolor": "white",
            "ticks": ""
           },
           "bgcolor": "#E5ECF6",
           "radialaxis": {
            "gridcolor": "white",
            "linecolor": "white",
            "ticks": ""
           }
          },
          "scene": {
           "xaxis": {
            "backgroundcolor": "#E5ECF6",
            "gridcolor": "white",
            "gridwidth": 2,
            "linecolor": "white",
            "showbackground": true,
            "ticks": "",
            "zerolinecolor": "white"
           },
           "yaxis": {
            "backgroundcolor": "#E5ECF6",
            "gridcolor": "white",
            "gridwidth": 2,
            "linecolor": "white",
            "showbackground": true,
            "ticks": "",
            "zerolinecolor": "white"
           },
           "zaxis": {
            "backgroundcolor": "#E5ECF6",
            "gridcolor": "white",
            "gridwidth": 2,
            "linecolor": "white",
            "showbackground": true,
            "ticks": "",
            "zerolinecolor": "white"
           }
          },
          "shapedefaults": {
           "line": {
            "color": "#2a3f5f"
           }
          },
          "ternary": {
           "aaxis": {
            "gridcolor": "white",
            "linecolor": "white",
            "ticks": ""
           },
           "baxis": {
            "gridcolor": "white",
            "linecolor": "white",
            "ticks": ""
           },
           "bgcolor": "#E5ECF6",
           "caxis": {
            "gridcolor": "white",
            "linecolor": "white",
            "ticks": ""
           }
          },
          "title": {
           "x": 0.05
          },
          "xaxis": {
           "automargin": true,
           "gridcolor": "white",
           "linecolor": "white",
           "ticks": "",
           "title": {
            "standoff": 15
           },
           "zerolinecolor": "white",
           "zerolinewidth": 2
          },
          "yaxis": {
           "automargin": true,
           "gridcolor": "white",
           "linecolor": "white",
           "ticks": "",
           "title": {
            "standoff": 15
           },
           "zerolinecolor": "white",
           "zerolinewidth": 2
          }
         }
        },
        "xaxis": {
         "anchor": "y",
         "domain": [
          0,
          1
         ]
        },
        "yaxis": {
         "anchor": "x",
         "autorange": "reversed",
         "domain": [
          0,
          1
         ]
        }
       }
      },
      "text/html": [
       "<div>                            <div id=\"6a900155-8f62-4865-a025-a076dc189295\" class=\"plotly-graph-div\" style=\"height:525px; width:100%;\"></div>            <script type=\"text/javascript\">                require([\"plotly\"], function(Plotly) {                    window.PLOTLYENV=window.PLOTLYENV || {};                                    if (document.getElementById(\"6a900155-8f62-4865-a025-a076dc189295\")) {                    Plotly.newPlot(                        \"6a900155-8f62-4865-a025-a076dc189295\",                        [{\"coloraxis\":\"coloraxis\",\"name\":\"0\",\"x\":[\"fire\"],\"y\":[\"latitude\",\"longitude\",\"year\",\"month\",\"fire_cnt\",\"fire_cnt_before\",\"fire_before\",\"fire_cnt_last_year\",\"fire_last_year\",\"fire_cnt_last_year_same_month\",\"fire_last_year_same_month\",\"latitude_rounded\",\"longitude_rounded\",\"temperature_min\",\"temperature_max\",\"temperature_avg\"],\"z\":[[-0.06964834466983529],[0.05093387743630302],[-0.004689402375795634],[0.03000374627271004],[0.5805701096746689],[0.21511142941206385],[0.3493096664086155],[0.18534534820245502],[0.17929331555851558],[0.28168048506433907],[0.2581190249181417],[-0.06915234383871559],[0.05114182192860324],[0.10243235389507602],[0.10234356538112425],[0.10271510207246033]],\"type\":\"heatmap\",\"xaxis\":\"x\",\"yaxis\":\"y\",\"hovertemplate\":\"x: %{x}<br>y: %{y}<br>color: %{z}<extra></extra>\"}],                        {\"template\":{\"data\":{\"bar\":[{\"error_x\":{\"color\":\"#2a3f5f\"},\"error_y\":{\"color\":\"#2a3f5f\"},\"marker\":{\"line\":{\"color\":\"#E5ECF6\",\"width\":0.5},\"pattern\":{\"fillmode\":\"overlay\",\"size\":10,\"solidity\":0.2}},\"type\":\"bar\"}],\"barpolar\":[{\"marker\":{\"line\":{\"color\":\"#E5ECF6\",\"width\":0.5},\"pattern\":{\"fillmode\":\"overlay\",\"size\":10,\"solidity\":0.2}},\"type\":\"barpolar\"}],\"carpet\":[{\"aaxis\":{\"endlinecolor\":\"#2a3f5f\",\"gridcolor\":\"white\",\"linecolor\":\"white\",\"minorgridcolor\":\"white\",\"startlinecolor\":\"#2a3f5f\"},\"baxis\":{\"endlinecolor\":\"#2a3f5f\",\"gridcolor\":\"white\",\"linecolor\":\"white\",\"minorgridcolor\":\"white\",\"startlinecolor\":\"#2a3f5f\"},\"type\":\"carpet\"}],\"choropleth\":[{\"colorbar\":{\"outlinewidth\":0,\"ticks\":\"\"},\"type\":\"choropleth\"}],\"contour\":[{\"colorbar\":{\"outlinewidth\":0,\"ticks\":\"\"},\"colorscale\":[[0.0,\"#0d0887\"],[0.1111111111111111,\"#46039f\"],[0.2222222222222222,\"#7201a8\"],[0.3333333333333333,\"#9c179e\"],[0.4444444444444444,\"#bd3786\"],[0.5555555555555556,\"#d8576b\"],[0.6666666666666666,\"#ed7953\"],[0.7777777777777778,\"#fb9f3a\"],[0.8888888888888888,\"#fdca26\"],[1.0,\"#f0f921\"]],\"type\":\"contour\"}],\"contourcarpet\":[{\"colorbar\":{\"outlinewidth\":0,\"ticks\":\"\"},\"type\":\"contourcarpet\"}],\"heatmap\":[{\"colorbar\":{\"outlinewidth\":0,\"ticks\":\"\"},\"colorscale\":[[0.0,\"#0d0887\"],[0.1111111111111111,\"#46039f\"],[0.2222222222222222,\"#7201a8\"],[0.3333333333333333,\"#9c179e\"],[0.4444444444444444,\"#bd3786\"],[0.5555555555555556,\"#d8576b\"],[0.6666666666666666,\"#ed7953\"],[0.7777777777777778,\"#fb9f3a\"],[0.8888888888888888,\"#fdca26\"],[1.0,\"#f0f921\"]],\"type\":\"heatmap\"}],\"heatmapgl\":[{\"colorbar\":{\"outlinewidth\":0,\"ticks\":\"\"},\"colorscale\":[[0.0,\"#0d0887\"],[0.1111111111111111,\"#46039f\"],[0.2222222222222222,\"#7201a8\"],[0.3333333333333333,\"#9c179e\"],[0.4444444444444444,\"#bd3786\"],[0.5555555555555556,\"#d8576b\"],[0.6666666666666666,\"#ed7953\"],[0.7777777777777778,\"#fb9f3a\"],[0.8888888888888888,\"#fdca26\"],[1.0,\"#f0f921\"]],\"type\":\"heatmapgl\"}],\"histogram\":[{\"marker\":{\"pattern\":{\"fillmode\":\"overlay\",\"size\":10,\"solidity\":0.2}},\"type\":\"histogram\"}],\"histogram2d\":[{\"colorbar\":{\"outlinewidth\":0,\"ticks\":\"\"},\"colorscale\":[[0.0,\"#0d0887\"],[0.1111111111111111,\"#46039f\"],[0.2222222222222222,\"#7201a8\"],[0.3333333333333333,\"#9c179e\"],[0.4444444444444444,\"#bd3786\"],[0.5555555555555556,\"#d8576b\"],[0.6666666666666666,\"#ed7953\"],[0.7777777777777778,\"#fb9f3a\"],[0.8888888888888888,\"#fdca26\"],[1.0,\"#f0f921\"]],\"type\":\"histogram2d\"}],\"histogram2dcontour\":[{\"colorbar\":{\"outlinewidth\":0,\"ticks\":\"\"},\"colorscale\":[[0.0,\"#0d0887\"],[0.1111111111111111,\"#46039f\"],[0.2222222222222222,\"#7201a8\"],[0.3333333333333333,\"#9c179e\"],[0.4444444444444444,\"#bd3786\"],[0.5555555555555556,\"#d8576b\"],[0.6666666666666666,\"#ed7953\"],[0.7777777777777778,\"#fb9f3a\"],[0.8888888888888888,\"#fdca26\"],[1.0,\"#f0f921\"]],\"type\":\"histogram2dcontour\"}],\"mesh3d\":[{\"colorbar\":{\"outlinewidth\":0,\"ticks\":\"\"},\"type\":\"mesh3d\"}],\"parcoords\":[{\"line\":{\"colorbar\":{\"outlinewidth\":0,\"ticks\":\"\"}},\"type\":\"parcoords\"}],\"pie\":[{\"automargin\":true,\"type\":\"pie\"}],\"scatter\":[{\"marker\":{\"colorbar\":{\"outlinewidth\":0,\"ticks\":\"\"}},\"type\":\"scatter\"}],\"scatter3d\":[{\"line\":{\"colorbar\":{\"outlinewidth\":0,\"ticks\":\"\"}},\"marker\":{\"colorbar\":{\"outlinewidth\":0,\"ticks\":\"\"}},\"type\":\"scatter3d\"}],\"scattercarpet\":[{\"marker\":{\"colorbar\":{\"outlinewidth\":0,\"ticks\":\"\"}},\"type\":\"scattercarpet\"}],\"scattergeo\":[{\"marker\":{\"colorbar\":{\"outlinewidth\":0,\"ticks\":\"\"}},\"type\":\"scattergeo\"}],\"scattergl\":[{\"marker\":{\"colorbar\":{\"outlinewidth\":0,\"ticks\":\"\"}},\"type\":\"scattergl\"}],\"scattermapbox\":[{\"marker\":{\"colorbar\":{\"outlinewidth\":0,\"ticks\":\"\"}},\"type\":\"scattermapbox\"}],\"scatterpolar\":[{\"marker\":{\"colorbar\":{\"outlinewidth\":0,\"ticks\":\"\"}},\"type\":\"scatterpolar\"}],\"scatterpolargl\":[{\"marker\":{\"colorbar\":{\"outlinewidth\":0,\"ticks\":\"\"}},\"type\":\"scatterpolargl\"}],\"scatterternary\":[{\"marker\":{\"colorbar\":{\"outlinewidth\":0,\"ticks\":\"\"}},\"type\":\"scatterternary\"}],\"surface\":[{\"colorbar\":{\"outlinewidth\":0,\"ticks\":\"\"},\"colorscale\":[[0.0,\"#0d0887\"],[0.1111111111111111,\"#46039f\"],[0.2222222222222222,\"#7201a8\"],[0.3333333333333333,\"#9c179e\"],[0.4444444444444444,\"#bd3786\"],[0.5555555555555556,\"#d8576b\"],[0.6666666666666666,\"#ed7953\"],[0.7777777777777778,\"#fb9f3a\"],[0.8888888888888888,\"#fdca26\"],[1.0,\"#f0f921\"]],\"type\":\"surface\"}],\"table\":[{\"cells\":{\"fill\":{\"color\":\"#EBF0F8\"},\"line\":{\"color\":\"white\"}},\"header\":{\"fill\":{\"color\":\"#C8D4E3\"},\"line\":{\"color\":\"white\"}},\"type\":\"table\"}]},\"layout\":{\"annotationdefaults\":{\"arrowcolor\":\"#2a3f5f\",\"arrowhead\":0,\"arrowwidth\":1},\"autotypenumbers\":\"strict\",\"coloraxis\":{\"colorbar\":{\"outlinewidth\":0,\"ticks\":\"\"}},\"colorscale\":{\"diverging\":[[0,\"#8e0152\"],[0.1,\"#c51b7d\"],[0.2,\"#de77ae\"],[0.3,\"#f1b6da\"],[0.4,\"#fde0ef\"],[0.5,\"#f7f7f7\"],[0.6,\"#e6f5d0\"],[0.7,\"#b8e186\"],[0.8,\"#7fbc41\"],[0.9,\"#4d9221\"],[1,\"#276419\"]],\"sequential\":[[0.0,\"#0d0887\"],[0.1111111111111111,\"#46039f\"],[0.2222222222222222,\"#7201a8\"],[0.3333333333333333,\"#9c179e\"],[0.4444444444444444,\"#bd3786\"],[0.5555555555555556,\"#d8576b\"],[0.6666666666666666,\"#ed7953\"],[0.7777777777777778,\"#fb9f3a\"],[0.8888888888888888,\"#fdca26\"],[1.0,\"#f0f921\"]],\"sequentialminus\":[[0.0,\"#0d0887\"],[0.1111111111111111,\"#46039f\"],[0.2222222222222222,\"#7201a8\"],[0.3333333333333333,\"#9c179e\"],[0.4444444444444444,\"#bd3786\"],[0.5555555555555556,\"#d8576b\"],[0.6666666666666666,\"#ed7953\"],[0.7777777777777778,\"#fb9f3a\"],[0.8888888888888888,\"#fdca26\"],[1.0,\"#f0f921\"]]},\"colorway\":[\"#636efa\",\"#EF553B\",\"#00cc96\",\"#ab63fa\",\"#FFA15A\",\"#19d3f3\",\"#FF6692\",\"#B6E880\",\"#FF97FF\",\"#FECB52\"],\"font\":{\"color\":\"#2a3f5f\"},\"geo\":{\"bgcolor\":\"white\",\"lakecolor\":\"white\",\"landcolor\":\"#E5ECF6\",\"showlakes\":true,\"showland\":true,\"subunitcolor\":\"white\"},\"hoverlabel\":{\"align\":\"left\"},\"hovermode\":\"closest\",\"mapbox\":{\"style\":\"light\"},\"paper_bgcolor\":\"white\",\"plot_bgcolor\":\"#E5ECF6\",\"polar\":{\"angularaxis\":{\"gridcolor\":\"white\",\"linecolor\":\"white\",\"ticks\":\"\"},\"bgcolor\":\"#E5ECF6\",\"radialaxis\":{\"gridcolor\":\"white\",\"linecolor\":\"white\",\"ticks\":\"\"}},\"scene\":{\"xaxis\":{\"backgroundcolor\":\"#E5ECF6\",\"gridcolor\":\"white\",\"gridwidth\":2,\"linecolor\":\"white\",\"showbackground\":true,\"ticks\":\"\",\"zerolinecolor\":\"white\"},\"yaxis\":{\"backgroundcolor\":\"#E5ECF6\",\"gridcolor\":\"white\",\"gridwidth\":2,\"linecolor\":\"white\",\"showbackground\":true,\"ticks\":\"\",\"zerolinecolor\":\"white\"},\"zaxis\":{\"backgroundcolor\":\"#E5ECF6\",\"gridcolor\":\"white\",\"gridwidth\":2,\"linecolor\":\"white\",\"showbackground\":true,\"ticks\":\"\",\"zerolinecolor\":\"white\"}},\"shapedefaults\":{\"line\":{\"color\":\"#2a3f5f\"}},\"ternary\":{\"aaxis\":{\"gridcolor\":\"white\",\"linecolor\":\"white\",\"ticks\":\"\"},\"baxis\":{\"gridcolor\":\"white\",\"linecolor\":\"white\",\"ticks\":\"\"},\"bgcolor\":\"#E5ECF6\",\"caxis\":{\"gridcolor\":\"white\",\"linecolor\":\"white\",\"ticks\":\"\"}},\"title\":{\"x\":0.05},\"xaxis\":{\"automargin\":true,\"gridcolor\":\"white\",\"linecolor\":\"white\",\"ticks\":\"\",\"title\":{\"standoff\":15},\"zerolinecolor\":\"white\",\"zerolinewidth\":2},\"yaxis\":{\"automargin\":true,\"gridcolor\":\"white\",\"linecolor\":\"white\",\"ticks\":\"\",\"title\":{\"standoff\":15},\"zerolinecolor\":\"white\",\"zerolinewidth\":2}}},\"xaxis\":{\"anchor\":\"y\",\"domain\":[0.0,1.0]},\"yaxis\":{\"anchor\":\"x\",\"domain\":[0.0,1.0],\"autorange\":\"reversed\"},\"coloraxis\":{\"colorscale\":[[0.0,\"rgb(103,0,31)\"],[0.1,\"rgb(178,24,43)\"],[0.2,\"rgb(214,96,77)\"],[0.3,\"rgb(244,165,130)\"],[0.4,\"rgb(253,219,199)\"],[0.5,\"rgb(247,247,247)\"],[0.6,\"rgb(209,229,240)\"],[0.7,\"rgb(146,197,222)\"],[0.8,\"rgb(67,147,195)\"],[0.9,\"rgb(33,102,172)\"],[1.0,\"rgb(5,48,97)\"]]},\"margin\":{\"t\":60}},                        {\"responsive\": true}                    ).then(function(){\n",
       "                            \n",
       "var gd = document.getElementById('6a900155-8f62-4865-a025-a076dc189295');\n",
       "var x = new MutationObserver(function (mutations, observer) {{\n",
       "        var display = window.getComputedStyle(gd).display;\n",
       "        if (!display || display === 'none') {{\n",
       "            console.log([gd, 'removed!']);\n",
       "            Plotly.purge(gd);\n",
       "            observer.disconnect();\n",
       "        }}\n",
       "}});\n",
       "\n",
       "// Listen for the removal of the full notebook cells\n",
       "var notebookContainer = gd.closest('#notebook-container');\n",
       "if (notebookContainer) {{\n",
       "    x.observe(notebookContainer, {childList: true});\n",
       "}}\n",
       "\n",
       "// Listen for the clearing of the current output cell\n",
       "var outputEl = gd.closest('.output');\n",
       "if (outputEl) {{\n",
       "    x.observe(outputEl, {childList: true});\n",
       "}}\n",
       "\n",
       "                        })                };                });            </script>        </div>"
      ]
     },
     "metadata": {},
     "output_type": "display_data"
    }
   ],
   "source": [
    "feature_label_corr = full_df.corr()[[\"fire\"]].drop(index='fire')\n",
    "fig = px.imshow(feature_label_corr, aspect=\"auto\", color_continuous_scale=px.colors.sequential.RdBu)\n",
    "fig.show()"
   ]
  },
  {
   "cell_type": "code",
   "execution_count": null,
   "id": "f1870afa",
   "metadata": {},
   "outputs": [],
   "source": []
  }
 ],
 "metadata": {
  "kernelspec": {
   "display_name": "Python 3 (ipykernel)",
   "language": "python",
   "name": "python3"
  },
  "language_info": {
   "codemirror_mode": {
    "name": "ipython",
    "version": 3
   },
   "file_extension": ".py",
   "mimetype": "text/x-python",
   "name": "python",
   "nbconvert_exporter": "python",
   "pygments_lexer": "ipython3",
   "version": "3.8.12"
  }
 },
 "nbformat": 4,
 "nbformat_minor": 5
}
